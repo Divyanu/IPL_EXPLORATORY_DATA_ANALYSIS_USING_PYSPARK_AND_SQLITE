{
  "nbformat": 4,
  "nbformat_minor": 0,
  "metadata": {
    "colab": {
      "name": "IPL_DATA_ANALYTICS(With SQL).ipynb",
      "provenance": [],
      "collapsed_sections": []
    },
    "kernelspec": {
      "name": "python3",
      "display_name": "Python 3"
    },
    "language_info": {
      "name": "python"
    }
  },
  "cells": [
    {
      "cell_type": "code",
      "source": [
        "# innstall java\n",
        "!apt-get install openjdk-8-jdk-headless -qq > /dev/null\n",
        "\n",
        "# install spark (change the version number if needed)\n",
        "!wget -q https://archive.apache.org/dist/spark/spark-3.0.0/spark-3.0.0-bin-hadoop3.2.tgz\n",
        "\n",
        "# unzip the spark file to the current folder\n",
        "!tar xf spark-3.0.0-bin-hadoop3.2.tgz\n",
        "\n",
        "# set your spark folder to your system path environment. \n",
        "import os\n",
        "os.environ[\"JAVA_HOME\"] = \"/usr/lib/jvm/java-8-openjdk-amd64\"\n",
        "os.environ[\"SPARK_HOME\"] = \"/content/spark-3.0.0-bin-hadoop3.2\"\n",
        "\n",
        "\n",
        "# install findspark using pip\n",
        "!pip install -q findspark"
      ],
      "metadata": {
        "id": "f1kj40Jh05V2"
      },
      "execution_count": null,
      "outputs": []
    },
    {
      "cell_type": "code",
      "source": [
        "import findspark\n",
        "findspark.init()"
      ],
      "metadata": {
        "id": "RSMbMTIg1csi"
      },
      "execution_count": null,
      "outputs": []
    },
    {
      "cell_type": "code",
      "source": [
        "from pyspark.sql import SparkSession\n",
        "spark = (SparkSession\n",
        " .builder\n",
        " .appName(\"<app_name>\")\n",
        " .getOrCreate())"
      ],
      "metadata": {
        "id": "H3qu319M1oXU"
      },
      "execution_count": null,
      "outputs": []
    },
    {
      "cell_type": "code",
      "source": [
        "file_path1 = \"/content/ipl_ball_by_ball.csv\"\n",
        "\n",
        "# Read in the airports data\n",
        "df = spark.read.csv(file_path1, header=True)\n",
        "\n",
        "# Show the data\n",
        "df.show()"
      ],
      "metadata": {
        "colab": {
          "base_uri": "https://localhost:8080/"
        },
        "id": "g1CcK6bh1rmA",
        "outputId": "c34ec331-9d3d-4da4-f0a7-0237a2e272a9"
      },
      "execution_count": null,
      "outputs": [
        {
          "output_type": "stream",
          "name": "stdout",
          "text": [
            "+--------+------+-----+----+-------------+-------------+------------+------------+----------+----------+------------+---------+--------------+----------------+-------+-----------+--------------------+--------------------+\n",
            "|match_id|inning|overs|ball|      batsman|  non_striker|      bowler|batsman_runs|extra_runs|total_runs|non_boundary|is_wicket|dismissal_kind|player_dismissed|fielder|extras_type|        batting_team|        bowling_team|\n",
            "+--------+------+-----+----+-------------+-------------+------------+------------+----------+----------+------------+---------+--------------+----------------+-------+-----------+--------------------+--------------------+\n",
            "|  419157|     2|   16|   4|      V Kohli|R Vinay Kumar|CRD Fernando|           0|         0|         0|           0|        0|            NA|              NA|     NA|         NA|Royal Challengers...|      Mumbai Indians|\n",
            "|  419157|     2|   16|   5|      V Kohli|R Vinay Kumar|CRD Fernando|           1|         0|         1|           0|        0|            NA|              NA|     NA|         NA|Royal Challengers...|      Mumbai Indians|\n",
            "|  419157|     2|   16|   6|R Vinay Kumar|      V Kohli|CRD Fernando|           1|         0|         1|           0|        0|            NA|              NA|     NA|         NA|Royal Challengers...|      Mumbai Indians|\n",
            "|  419157|     2|   17|   1|R Vinay Kumar|      V Kohli|   R McLaren|           1|         0|         1|           0|        0|            NA|              NA|     NA|         NA|Royal Challengers...|      Mumbai Indians|\n",
            "|  419157|     2|   17|   2|      V Kohli|R Vinay Kumar|   R McLaren|           1|         0|         1|           0|        0|            NA|              NA|     NA|         NA|Royal Challengers...|      Mumbai Indians|\n",
            "|  419157|     2|   17|   3|R Vinay Kumar|      V Kohli|   R McLaren|           0|         0|         0|           0|        0|            NA|              NA|     NA|         NA|Royal Challengers...|      Mumbai Indians|\n",
            "|  419157|     2|   17|   4|R Vinay Kumar|      V Kohli|   R McLaren|           0|         0|         0|           0|        0|            NA|              NA|     NA|         NA|Royal Challengers...|      Mumbai Indians|\n",
            "|  419157|     2|   17|   5|R Vinay Kumar|      V Kohli|   R McLaren|           1|         0|         1|           0|        0|            NA|              NA|     NA|         NA|Royal Challengers...|      Mumbai Indians|\n",
            "|  419157|     2|   17|   6|      V Kohli|R Vinay Kumar|   R McLaren|           1|         0|         1|           0|        0|            NA|              NA|     NA|         NA|Royal Challengers...|      Mumbai Indians|\n",
            "|  419157|     2|   18|   1|      V Kohli|R Vinay Kumar|  KA Pollard|           4|         0|         4|           0|        0|            NA|              NA|     NA|         NA|Royal Challengers...|      Mumbai Indians|\n",
            "|  419157|     2|   18|   2|      V Kohli|R Vinay Kumar|  KA Pollard|           0|         0|         0|           0|        1|        caught|         V Kohli|AP Tare|         NA|Royal Challengers...|      Mumbai Indians|\n",
            "|  419157|     2|   18|   3|R Vinay Kumar| Pankaj Singh|  KA Pollard|           0|         1|         1|           0|        0|            NA|              NA|     NA|      wides|Royal Challengers...|      Mumbai Indians|\n",
            "|  419157|     2|   18|   4|R Vinay Kumar| Pankaj Singh|  KA Pollard|           1|         0|         1|           0|        0|            NA|              NA|     NA|         NA|Royal Challengers...|      Mumbai Indians|\n",
            "|  419157|     2|   18|   5| Pankaj Singh|R Vinay Kumar|  KA Pollard|           1|         0|         1|           0|        0|            NA|              NA|     NA|         NA|Royal Challengers...|      Mumbai Indians|\n",
            "|  419157|     2|   18|   6|R Vinay Kumar| Pankaj Singh|  KA Pollard|           1|         0|         1|           0|        0|            NA|              NA|     NA|         NA|Royal Challengers...|      Mumbai Indians|\n",
            "|  419157|     2|   18|   7| Pankaj Singh|R Vinay Kumar|  KA Pollard|           0|         0|         0|           0|        1|        caught|    Pankaj Singh| Z Khan|         NA|Royal Challengers...|      Mumbai Indians|\n",
            "|  419157|     2|   19|   1|     A Kumble|R Vinay Kumar|   R McLaren|           0|         0|         0|           0|        0|            NA|              NA|     NA|         NA|Royal Challengers...|      Mumbai Indians|\n",
            "|  419157|     1|    0|   1|    R McLaren| SR Tendulkar|    DW Steyn|           1|         0|         1|           0|        0|            NA|              NA|     NA|         NA|      Mumbai Indians|Royal Challengers...|\n",
            "|  419157|     1|    0|   2| SR Tendulkar|    R McLaren|    DW Steyn|           0|         0|         0|           0|        0|            NA|              NA|     NA|         NA|      Mumbai Indians|Royal Challengers...|\n",
            "|  419157|     1|    0|   3| SR Tendulkar|    R McLaren|    DW Steyn|           1|         0|         1|           0|        0|            NA|              NA|     NA|         NA|      Mumbai Indians|Royal Challengers...|\n",
            "+--------+------+-----+----+-------------+-------------+------------+------------+----------+----------+------------+---------+--------------+----------------+-------+-----------+--------------------+--------------------+\n",
            "only showing top 20 rows\n",
            "\n"
          ]
        }
      ]
    },
    {
      "cell_type": "code",
      "source": [
        "file_path2 = \"/content/ipl_matches.csv\"\n",
        "\n",
        "# Read in the airports data\n",
        "df2 = spark.read.csv(file_path2, header=True)\n",
        "\n",
        "# Show the data\n",
        "df2.show()"
      ],
      "metadata": {
        "colab": {
          "base_uri": "https://localhost:8080/"
        },
        "id": "_w6vADWI0puL",
        "outputId": "9b7ac36b-802f-468d-ca4f-c1306b41a4aa"
      },
      "execution_count": null,
      "outputs": [
        {
          "output_type": "stream",
          "name": "stdout",
          "text": [
            "+--------+----------+---------------+--------+-------------+--------------------+--------------------+--------------------+-------------+--------------------+-------+-------------+----------+------+-----------+--------------+\n",
            "|match_id|      date|player_of_match|venue_id|neutral_venue|               team1|               team2|         toss_winner|toss_decision|              winner| result|result_margin|eliminator|method|    umpire1|       umpire2|\n",
            "+--------+----------+---------------+--------+-------------+--------------------+--------------------+--------------------+-------------+--------------------+-------+-------------+----------+------+-----------+--------------+\n",
            "|  335982|2008-04-18|    BB McCullum|      35|            0|Royal Challengers...|Kolkata Knight Ri...|Royal Challengers...|        field|Kolkata Knight Ri...|   runs|          140|         N|    NA|  Asad Rauf|   RE Koertzen|\n",
            "|  335983|2008-04-19|     MEK Hussey|      31|            0|     Kings XI Punjab| Chennai Super Kings| Chennai Super Kings|          bat| Chennai Super Kings|   runs|           33|         N|    NA|  MR Benson|    SL Shastri|\n",
            "|  335984|2008-04-19|    MF Maharoof|      27|            0|    Delhi Daredevils|    Rajasthan Royals|    Rajasthan Royals|          bat|    Delhi Daredevils|wickets|            9|         N|    NA|  Aleem Dar|GA Pratapkumar|\n",
            "|  335985|2008-04-20|     MV Boucher|      14|            0|      Mumbai Indians|Royal Challengers...|      Mumbai Indians|          bat|Royal Challengers...|wickets|            5|         N|    NA|   SJ Davis|     DJ Harper|\n",
            "|  335986|2008-04-20|      DJ Hussey|      15|            0|Kolkata Knight Ri...|     Deccan Chargers|     Deccan Chargers|          bat|Kolkata Knight Ri...|wickets|            5|         N|    NA|  BF Bowden|   K Hariharan|\n",
            "|  335987|2008-04-21|      SR Watson|      20|            0|    Rajasthan Royals|     Kings XI Punjab|     Kings XI Punjab|          bat|    Rajasthan Royals|wickets|            6|         N|    NA|  Aleem Dar|     RB Tiffin|\n",
            "|  335988|2008-04-22|       V Sehwag|      22|            0|     Deccan Chargers|    Delhi Daredevils|     Deccan Chargers|          bat|    Delhi Daredevils|wickets|            9|         N|    NA|  IL Howell|     AM Saheba|\n",
            "|  335989|2008-04-23|      ML Hayden|      29|            0| Chennai Super Kings|      Mumbai Indians|      Mumbai Indians|        field| Chennai Super Kings|   runs|            6|         N|    NA|  DJ Harper|GA Pratapkumar|\n",
            "|  335990|2008-04-24|      YK Pathan|      22|            0|     Deccan Chargers|    Rajasthan Royals|    Rajasthan Royals|        field|    Rajasthan Royals|wickets|            3|         N|    NA|  Asad Rauf|     MR Benson|\n",
            "|  335991|2008-04-25|  KC Sangakkara|      31|            0|     Kings XI Punjab|      Mumbai Indians|      Mumbai Indians|        field|     Kings XI Punjab|   runs|           66|         N|    NA|  Aleem Dar|     AM Saheba|\n",
            "|  335992|2008-04-26|      SR Watson|      35|            0|Royal Challengers...|    Rajasthan Royals|    Rajasthan Royals|        field|    Rajasthan Royals|wickets|            7|         N|    NA|  MR Benson|     IL Howell|\n",
            "|  335993|2008-04-26|       JDP Oram|      29|            0| Chennai Super Kings|Kolkata Knight Ri...|Kolkata Knight Ri...|          bat| Chennai Super Kings|wickets|            9|         N|    NA|  BF Bowden|AV Jayaprakash|\n",
            "|  335994|2008-04-27|   AC Gilchrist|      13|            0|      Mumbai Indians|     Deccan Chargers|     Deccan Chargers|        field|     Deccan Chargers|wickets|           10|         N|    NA|  Asad Rauf|    SL Shastri|\n",
            "|  335995|2008-04-27|      SM Katich|      31|            0|     Kings XI Punjab|    Delhi Daredevils|    Delhi Daredevils|          bat|     Kings XI Punjab|wickets|            4|         N|    NA|RE Koertzen|     I Shivram|\n",
            "|  335996|2008-04-28|       MS Dhoni|      35|            0|Royal Challengers...| Chennai Super Kings| Chennai Super Kings|          bat| Chennai Super Kings|   runs|           13|         N|    NA|BR Doctrove|     RB Tiffin|\n",
            "|  335997|2008-04-29|  ST Jayasuriya|      15|            0|Kolkata Knight Ri...|      Mumbai Indians|Kolkata Knight Ri...|          bat|      Mumbai Indians|wickets|            7|         N|    NA|  BF Bowden|AV Jayaprakash|\n",
            "|  335998|2008-04-30|     GD McGrath|      27|            0|    Delhi Daredevils|Royal Challengers...|Royal Challengers...|        field|    Delhi Daredevils|   runs|           10|         N|    NA|  Aleem Dar|     I Shivram|\n",
            "|  335999|2008-05-01|       SE Marsh|      22|            0|     Deccan Chargers|     Kings XI Punjab|     Kings XI Punjab|        field|     Kings XI Punjab|wickets|            7|         N|    NA|BR Doctrove|     RB Tiffin|\n",
            "|  336000|2008-05-01|    SA Asnodkar|      20|            0|    Rajasthan Royals|Kolkata Knight Ri...|    Rajasthan Royals|          bat|    Rajasthan Royals|   runs|           45|         N|    NA|RE Koertzen|GA Pratapkumar|\n",
            "|  336001|2008-05-02|       V Sehwag|      29|            0| Chennai Super Kings|    Delhi Daredevils| Chennai Super Kings|          bat|    Delhi Daredevils|wickets|            8|         N|    NA|  BF Bowden|   K Hariharan|\n",
            "+--------+----------+---------------+--------+-------------+--------------------+--------------------+--------------------+-------------+--------------------+-------+-------------+----------+------+-----------+--------------+\n",
            "only showing top 20 rows\n",
            "\n"
          ]
        }
      ]
    },
    {
      "cell_type": "code",
      "source": [
        "file_path3 = \"/content/ipl_venue.csv\"\n",
        "\n",
        "# Read in the airports data\n",
        "df3 = spark.read.csv(file_path3, header=True)\n",
        "\n",
        "# Show the data\n",
        "df3.show()"
      ],
      "metadata": {
        "colab": {
          "base_uri": "https://localhost:8080/"
        },
        "id": "nawq6IUA06XP",
        "outputId": "aeb003c9-9ce2-4fd0-a1ec-a988276a406b"
      },
      "execution_count": null,
      "outputs": [
        {
          "output_type": "stream",
          "name": "stdout",
          "text": [
            "+--------+--------------------+--------------+\n",
            "|venue_id|               venue|          city|\n",
            "+--------+--------------------+--------------+\n",
            "|       1|Dr. Y.S. Rajasekh...| Visakhapatnam|\n",
            "|       2|Sharjah Cricket S...|       Sharjah|\n",
            "|       3|JSCA Internationa...|        Ranchi|\n",
            "|       4|Saurashtra Cricke...|        Rajkot|\n",
            "|       5|Shaheed Veer Nara...|        Raipur|\n",
            "|       6|Maharashtra Crick...|          Pune|\n",
            "|       7|Subrata Roy Sahar...|          Pune|\n",
            "|       8|    St George's Park|Port Elizabeth|\n",
            "|       9|Vidarbha Cricket ...|        Nagpur|\n",
            "|      12|   Brabourne Stadium|        Mumbai|\n",
            "|      13|Dr DY Patil Sport...|        Mumbai|\n",
            "|      14|    Wankhede Stadium|        Mumbai|\n",
            "|      15|        Eden Gardens|       Kolkata|\n",
            "|      16|       Nehru Stadium|         Kochi|\n",
            "|      17|De Beers Diamond ...|     Kimberley|\n",
            "|      18|          Green Park|        Kanpur|\n",
            "|      19|New Wanderers Sta...|  Johannesburg|\n",
            "|      20|Sawai Mansingh St...|        Jaipur|\n",
            "|      21|Holkar Cricket St...|        Indore|\n",
            "|      22|Rajiv Gandhi Inte...|     Hyderabad|\n",
            "+--------+--------------------+--------------+\n",
            "only showing top 20 rows\n",
            "\n"
          ]
        }
      ]
    },
    {
      "cell_type": "code",
      "source": [
        "# Add spark_temp to the catalog\n",
        "df.createOrReplaceTempView(\"ipl_ball\")\n",
        "\n",
        "# Examine the tables in the catalog again\n",
        "print(spark.catalog.listTables())"
      ],
      "metadata": {
        "colab": {
          "base_uri": "https://localhost:8080/"
        },
        "id": "NMNB2ra616sG",
        "outputId": "877d49f1-9004-4739-c0d5-00a3fb9d3985"
      },
      "execution_count": null,
      "outputs": [
        {
          "output_type": "stream",
          "name": "stdout",
          "text": [
            "[Table(name='ipl_ball', database=None, description=None, tableType='TEMPORARY', isTemporary=True)]\n"
          ]
        }
      ]
    },
    {
      "cell_type": "code",
      "source": [
        "# Add spark_temp to the catalog\n",
        "df2.createOrReplaceTempView(\"ipl_matches\")\n",
        "\n",
        "# Examine the tables in the catalog again\n",
        "print(spark.catalog.listTables())"
      ],
      "metadata": {
        "colab": {
          "base_uri": "https://localhost:8080/"
        },
        "id": "cdEMwLmF5LeA",
        "outputId": "ef3019b3-a3ac-40b3-a727-c0f5fe3f40fe"
      },
      "execution_count": null,
      "outputs": [
        {
          "output_type": "stream",
          "name": "stdout",
          "text": [
            "[Table(name='ipl_ball', database=None, description=None, tableType='TEMPORARY', isTemporary=True), Table(name='ipl_matches', database=None, description=None, tableType='TEMPORARY', isTemporary=True)]\n"
          ]
        }
      ]
    },
    {
      "cell_type": "code",
      "source": [
        "# Add spark_temp to the catalog\n",
        "df3.createOrReplaceTempView(\"ipl_venue\")\n",
        "\n",
        "# Examine the tables in the catalog again\n",
        "print(spark.catalog.listTables())"
      ],
      "metadata": {
        "colab": {
          "base_uri": "https://localhost:8080/"
        },
        "id": "lhGevJ3zEf2X",
        "outputId": "3ca36696-4c5c-4f51-e11a-bc60a61c2ac9"
      },
      "execution_count": null,
      "outputs": [
        {
          "output_type": "stream",
          "name": "stdout",
          "text": [
            "[Table(name='ipl_ball', database=None, description=None, tableType='TEMPORARY', isTemporary=True), Table(name='ipl_matches', database=None, description=None, tableType='TEMPORARY', isTemporary=True), Table(name='ipl_venue', database=None, description=None, tableType='TEMPORARY', isTemporary=True)]\n"
          ]
        }
      ]
    },
    {
      "cell_type": "code",
      "source": [
        "import numpy as np\n",
        "import cv2\n",
        "img = cv2.imread(\"/content/ipl_dataset_schema.png\")"
      ],
      "metadata": {
        "id": "m_-8EKgrfeYo"
      },
      "execution_count": null,
      "outputs": []
    },
    {
      "cell_type": "code",
      "source": [
        "from google.colab.patches import cv2_imshow"
      ],
      "metadata": {
        "id": "m_Yyl_bVfdTl"
      },
      "execution_count": null,
      "outputs": []
    },
    {
      "cell_type": "code",
      "source": [
        "cv2_imshow(img)"
      ],
      "metadata": {
        "colab": {
          "base_uri": "https://localhost:8080/",
          "height": 590
        },
        "id": "RgSdJ3Z7e8ZH",
        "outputId": "02db0b69-79d9-4266-ae40-683372a41be1"
      },
      "execution_count": null,
      "outputs": [
        {
          "output_type": "display_data",
          "data": {
            "image/png": "[encoded data removed]",
            "text/plain": [
              "<PIL.Image.Image image mode=RGB size=843x573 at 0x7FA8A0AE5510>"
            ]
          },
          "metadata": {}
        }
      ]
    },
    {
      "cell_type": "code",
      "source": [
        "df.printSchema()"
      ],
      "metadata": {
        "colab": {
          "base_uri": "https://localhost:8080/"
        },
        "id": "LN1SSQklgdbo",
        "outputId": "a165ad2f-c778-4d7e-9c17-04abb1d835d7"
      },
      "execution_count": null,
      "outputs": [
        {
          "output_type": "stream",
          "name": "stdout",
          "text": [
            "root\n",
            " |-- match_id: string (nullable = true)\n",
            " |-- inning: string (nullable = true)\n",
            " |-- overs: string (nullable = true)\n",
            " |-- ball: string (nullable = true)\n",
            " |-- batsman: string (nullable = true)\n",
            " |-- non_striker: string (nullable = true)\n",
            " |-- bowler: string (nullable = true)\n",
            " |-- batsman_runs: string (nullable = true)\n",
            " |-- extra_runs: string (nullable = true)\n",
            " |-- total_runs: string (nullable = true)\n",
            " |-- non_boundary: string (nullable = true)\n",
            " |-- is_wicket: string (nullable = true)\n",
            " |-- dismissal_kind: string (nullable = true)\n",
            " |-- player_dismissed: string (nullable = true)\n",
            " |-- fielder: string (nullable = true)\n",
            " |-- extras_type: string (nullable = true)\n",
            " |-- batting_team: string (nullable = true)\n",
            " |-- bowling_team: string (nullable = true)\n",
            "\n"
          ]
        }
      ]
    },
    {
      "cell_type": "code",
      "source": [
        "df2.printSchema()"
      ],
      "metadata": {
        "colab": {
          "base_uri": "https://localhost:8080/"
        },
        "id": "yh04s8cGfVd2",
        "outputId": "528bc415-0131-4f30-bc2d-f9202c2e76be"
      },
      "execution_count": null,
      "outputs": [
        {
          "output_type": "stream",
          "name": "stdout",
          "text": [
            "root\n",
            " |-- match_id: string (nullable = true)\n",
            " |-- date: string (nullable = true)\n",
            " |-- player_of_match: string (nullable = true)\n",
            " |-- venue_id: string (nullable = true)\n",
            " |-- neutral_venue: string (nullable = true)\n",
            " |-- team1: string (nullable = true)\n",
            " |-- team2: string (nullable = true)\n",
            " |-- toss_winner: string (nullable = true)\n",
            " |-- toss_decision: string (nullable = true)\n",
            " |-- winner: string (nullable = true)\n",
            " |-- result: string (nullable = true)\n",
            " |-- result_margin: string (nullable = true)\n",
            " |-- eliminator: string (nullable = true)\n",
            " |-- method: string (nullable = true)\n",
            " |-- umpire1: string (nullable = true)\n",
            " |-- umpire2: string (nullable = true)\n",
            "\n"
          ]
        }
      ]
    },
    {
      "cell_type": "code",
      "source": [
        "df3.printSchema()"
      ],
      "metadata": {
        "colab": {
          "base_uri": "https://localhost:8080/"
        },
        "id": "2Wl7e5QChNd5",
        "outputId": "876b3e13-e8aa-480a-cc5c-d0e45d1187c3"
      },
      "execution_count": null,
      "outputs": [
        {
          "output_type": "stream",
          "name": "stdout",
          "text": [
            "root\n",
            " |-- venue_id: string (nullable = true)\n",
            " |-- venue: string (nullable = true)\n",
            " |-- city: string (nullable = true)\n",
            "\n"
          ]
        }
      ]
    },
    {
      "cell_type": "code",
      "source": [
        "from pyspark.sql.types import IntegerType\n",
        "df = df.withColumn(\"is_wicket\", df[\"is_wicket\"].cast(IntegerType()))\n",
        "df = df.withColumn(\"batsman_runs\", df[\"batsman_runs\"].cast(IntegerType()))\n",
        "df = df.withColumn(\"extra_runs\", df[\"extra_runs\"].cast(IntegerType()))\n",
        "df = df.withColumn(\"total_runs\", df[\"total_runs\"].cast(IntegerType()))\n",
        "df = df.withColumn(\"inning\", df[\"inning\"].cast(IntegerType()))\n",
        "df = df.withColumn(\"overs\", df[\"overs\"].cast(IntegerType()))\n",
        "df = df.withColumn(\"non_boundary\", df[\"non_boundary\"].cast(IntegerType()))\n",
        "df = df.withColumn(\"match_id\", df[\"match_id\"].cast(IntegerType()))"
      ],
      "metadata": {
        "id": "P2P2SrNhhQQE"
      },
      "execution_count": null,
      "outputs": []
    },
    {
      "cell_type": "code",
      "source": [
        "df.summary().show(vertical=True)"
      ],
      "metadata": {
        "colab": {
          "base_uri": "https://localhost:8080/"
        },
        "id": "6E8kMPj8h6fP",
        "outputId": "eb80fd72-a80c-4aa3-8cd1-76a02bae99e2"
      },
      "execution_count": null,
      "outputs": [
        {
          "output_type": "stream",
          "name": "stdout",
          "text": [
            "-RECORD 0--------------------------------\n",
            " summary          | count                \n",
            " match_id         | 29325                \n",
            " inning           | 29325                \n",
            " overs            | 29325                \n",
            " ball             | 29325                \n",
            " batsman          | 29325                \n",
            " non_striker      | 29325                \n",
            " bowler           | 29325                \n",
            " batsman_runs     | 29325                \n",
            " extra_runs       | 29325                \n",
            " total_runs       | 29325                \n",
            " non_boundary     | 29325                \n",
            " is_wicket        | 29325                \n",
            " dismissal_kind   | 29325                \n",
            " player_dismissed | 29325                \n",
            " fielder          | 29325                \n",
            " extras_type      | 29325                \n",
            " batting_team     | 29325                \n",
            " bowling_team     | 29325                \n",
            "-RECORD 1--------------------------------\n",
            " summary          | mean                 \n",
            " match_id         | 755862.5077919863    \n",
            " inning           | 1.4753282182438192   \n",
            " overs            | 9.121159420289855    \n",
            " ball             | 3.6187212276214833   \n",
            " batsman          | null                 \n",
            " non_striker      | null                 \n",
            " bowler           | null                 \n",
            " batsman_runs     | 1.229156010230179    \n",
            " extra_runs       | 0.06748508098891731  \n",
            " total_runs       | 1.2966410912190964   \n",
            " non_boundary     | 3.410059676044331E-5 \n",
            " is_wicket        | 0.04941176470588235  \n",
            " dismissal_kind   | null                 \n",
            " player_dismissed | null                 \n",
            " fielder          | null                 \n",
            " extras_type      | null                 \n",
            " batting_team     | null                 \n",
            " bowling_team     | null                 \n",
            "-RECORD 2--------------------------------\n",
            " summary          | stddev               \n",
            " match_id         | 321444.3971318834    \n",
            " inning           | 0.49939944720359375  \n",
            " overs            | 5.6438738453890505   \n",
            " ball             | 1.8093740551993542   \n",
            " batsman          | null                 \n",
            " non_striker      | null                 \n",
            " bowler           | null                 \n",
            " batsman_runs     | 1.6019450862347284   \n",
            " extra_runs       | 0.3349267559051301   \n",
            " total_runs       | 1.588846928987413    \n",
            " non_boundary     | 0.005839571624737838 \n",
            " is_wicket        | 0.21672988714629018  \n",
            " dismissal_kind   | null                 \n",
            " player_dismissed | null                 \n",
            " fielder          | null                 \n",
            " extras_type      | null                 \n",
            " batting_team     | null                 \n",
            " bowling_team     | null                 \n",
            "-RECORD 3--------------------------------\n",
            " summary          | min                  \n",
            " match_id         | 336007               \n",
            " inning           | 1                    \n",
            " overs            | 0                    \n",
            " ball             | 1                    \n",
            " batsman          | A Ashish Reddy       \n",
            " non_striker      | A Ashish Reddy       \n",
            " bowler           | A Ashish Reddy       \n",
            " batsman_runs     | 0                    \n",
            " extra_runs       | 0                    \n",
            " total_runs       | 0                    \n",
            " non_boundary     | 0                    \n",
            " is_wicket        | 0                    \n",
            " dismissal_kind   | NA                   \n",
            " player_dismissed | A Ashish Reddy       \n",
            " fielder          | A Ashish Reddy       \n",
            " extras_type      | NA                   \n",
            " batting_team     | Chennai Super Kings  \n",
            " bowling_team     | Chennai Super Kings  \n",
            "-RECORD 4--------------------------------\n",
            " summary          | 25%                  \n",
            " match_id         | 501199               \n",
            " inning           | 1                    \n",
            " overs            | 4                    \n",
            " ball             | 2.0                  \n",
            " batsman          | null                 \n",
            " non_striker      | null                 \n",
            " bowler           | null                 \n",
            " batsman_runs     | 0                    \n",
            " extra_runs       | 0                    \n",
            " total_runs       | 0                    \n",
            " non_boundary     | 0                    \n",
            " is_wicket        | 0                    \n",
            " dismissal_kind   | null                 \n",
            " player_dismissed | null                 \n",
            " fielder          | null                 \n",
            " extras_type      | null                 \n",
            " batting_team     | null                 \n",
            " bowling_team     | null                 \n",
            "-RECORD 5--------------------------------\n",
            " summary          | 50%                  \n",
            " match_id         | 829727               \n",
            " inning           | 1                    \n",
            " overs            | 9                    \n",
            " ball             | 4.0                  \n",
            " batsman          | null                 \n",
            " non_striker      | null                 \n",
            " bowler           | null                 \n",
            " batsman_runs     | 1                    \n",
            " extra_runs       | 0                    \n",
            " total_runs       | 1                    \n",
            " non_boundary     | 0                    \n",
            " is_wicket        | 0                    \n",
            " dismissal_kind   | null                 \n",
            " player_dismissed | null                 \n",
            " fielder          | null                 \n",
            " extras_type      | null                 \n",
            " batting_team     | null                 \n",
            " bowling_team     | null                 \n",
            "-RECORD 6--------------------------------\n",
            " summary          | 75%                  \n",
            " match_id         | 1082644              \n",
            " inning           | 2                    \n",
            " overs            | 14                   \n",
            " ball             | 5.0                  \n",
            " batsman          | null                 \n",
            " non_striker      | null                 \n",
            " bowler           | null                 \n",
            " batsman_runs     | 1                    \n",
            " extra_runs       | 0                    \n",
            " total_runs       | 1                    \n",
            " non_boundary     | 0                    \n",
            " is_wicket        | 0                    \n",
            " dismissal_kind   | null                 \n",
            " player_dismissed | null                 \n",
            " fielder          | null                 \n",
            " extras_type      | null                 \n",
            " batting_team     | null                 \n",
            " bowling_team     | null                 \n",
            "-RECORD 7--------------------------------\n",
            " summary          | max                  \n",
            " match_id         | 1216541              \n",
            " inning           | 2                    \n",
            " overs            | 19                   \n",
            " ball             | 9                    \n",
            " batsman          | Z Khan               \n",
            " non_striker      | Z Khan               \n",
            " bowler           | Z Khan               \n",
            " batsman_runs     | 6                    \n",
            " extra_runs       | 5                    \n",
            " total_runs       | 7                    \n",
            " non_boundary     | 1                    \n",
            " is_wicket        | 1                    \n",
            " dismissal_kind   | stumped              \n",
            " player_dismissed | Z Khan               \n",
            " fielder          | Z Khan               \n",
            " extras_type      | wides                \n",
            " batting_team     | Sunrisers Hyderabad  \n",
            " bowling_team     | Sunrisers Hyderabad  \n",
            "\n"
          ]
        }
      ]
    },
    {
      "cell_type": "markdown",
      "source": [
        "## DF2"
      ],
      "metadata": {
        "id": "d2zn9EstjmnH"
      }
    },
    {
      "cell_type": "code",
      "source": [
        "df2 = df2.withColumn(\"venue_id\", df2[\"venue_id\"].cast(IntegerType()))\n",
        "df2 = df2.withColumn(\"result_margin\", df2[\"result_margin\"].cast(IntegerType()))"
      ],
      "metadata": {
        "id": "OaCJJlXojf9o"
      },
      "execution_count": null,
      "outputs": []
    },
    {
      "cell_type": "markdown",
      "source": [
        "# DF3"
      ],
      "metadata": {
        "id": "LUyLnbhdkNJt"
      }
    },
    {
      "cell_type": "code",
      "source": [
        "df3 = df3.withColumn(\"venue_id\", df3[\"venue_id\"].cast(IntegerType()))"
      ],
      "metadata": {
        "id": "OTNgEIyykKlI"
      },
      "execution_count": null,
      "outputs": []
    },
    {
      "cell_type": "markdown",
      "source": [
        "# Lets check out if there are any nan values or missing data?"
      ],
      "metadata": {
        "id": "w2oItYWai_II"
      }
    },
    {
      "cell_type": "code",
      "source": [
        "from pyspark.sql.functions import isnan, when, count, col"
      ],
      "metadata": {
        "id": "cRS1hBL5jLl3"
      },
      "execution_count": null,
      "outputs": []
    },
    {
      "cell_type": "code",
      "source": [
        "df.select([count(when(isnan(c) | col(c).isNull(), c)).alias(c) for c in df.columns])\n",
        "df.show(vertical=True)"
      ],
      "metadata": {
        "colab": {
          "base_uri": "https://localhost:8080/"
        },
        "id": "4dHhz7bazGnh",
        "outputId": "aa412ee4-4d02-4417-caeb-19ae20c43578"
      },
      "execution_count": null,
      "outputs": [
        {
          "output_type": "stream",
          "name": "stdout",
          "text": [
            "-RECORD 0--------------------------------\n",
            " match_id         | 419157               \n",
            " inning           | 2                    \n",
            " overs            | 16                   \n",
            " ball             | 4                    \n",
            " batsman          | V Kohli              \n",
            " non_striker      | R Vinay Kumar        \n",
            " bowler           | CRD Fernando         \n",
            " batsman_runs     | 0                    \n",
            " extra_runs       | 0                    \n",
            " total_runs       | 0                    \n",
            " non_boundary     | 0                    \n",
            " is_wicket        | 0                    \n",
            " dismissal_kind   | NA                   \n",
            " player_dismissed | NA                   \n",
            " fielder          | NA                   \n",
            " extras_type      | NA                   \n",
            " batting_team     | Royal Challengers... \n",
            " bowling_team     | Mumbai Indians       \n",
            "-RECORD 1--------------------------------\n",
            " match_id         | 419157               \n",
            " inning           | 2                    \n",
            " overs            | 16                   \n",
            " ball             | 5                    \n",
            " batsman          | V Kohli              \n",
            " non_striker      | R Vinay Kumar        \n",
            " bowler           | CRD Fernando         \n",
            " batsman_runs     | 1                    \n",
            " extra_runs       | 0                    \n",
            " total_runs       | 1                    \n",
            " non_boundary     | 0                    \n",
            " is_wicket        | 0                    \n",
            " dismissal_kind   | NA                   \n",
            " player_dismissed | NA                   \n",
            " fielder          | NA                   \n",
            " extras_type      | NA                   \n",
            " batting_team     | Royal Challengers... \n",
            " bowling_team     | Mumbai Indians       \n",
            "-RECORD 2--------------------------------\n",
            " match_id         | 419157               \n",
            " inning           | 2                    \n",
            " overs            | 16                   \n",
            " ball             | 6                    \n",
            " batsman          | R Vinay Kumar        \n",
            " non_striker      | V Kohli              \n",
            " bowler           | CRD Fernando         \n",
            " batsman_runs     | 1                    \n",
            " extra_runs       | 0                    \n",
            " total_runs       | 1                    \n",
            " non_boundary     | 0                    \n",
            " is_wicket        | 0                    \n",
            " dismissal_kind   | NA                   \n",
            " player_dismissed | NA                   \n",
            " fielder          | NA                   \n",
            " extras_type      | NA                   \n",
            " batting_team     | Royal Challengers... \n",
            " bowling_team     | Mumbai Indians       \n",
            "-RECORD 3--------------------------------\n",
            " match_id         | 419157               \n",
            " inning           | 2                    \n",
            " overs            | 17                   \n",
            " ball             | 1                    \n",
            " batsman          | R Vinay Kumar        \n",
            " non_striker      | V Kohli              \n",
            " bowler           | R McLaren            \n",
            " batsman_runs     | 1                    \n",
            " extra_runs       | 0                    \n",
            " total_runs       | 1                    \n",
            " non_boundary     | 0                    \n",
            " is_wicket        | 0                    \n",
            " dismissal_kind   | NA                   \n",
            " player_dismissed | NA                   \n",
            " fielder          | NA                   \n",
            " extras_type      | NA                   \n",
            " batting_team     | Royal Challengers... \n",
            " bowling_team     | Mumbai Indians       \n",
            "-RECORD 4--------------------------------\n",
            " match_id         | 419157               \n",
            " inning           | 2                    \n",
            " overs            | 17                   \n",
            " ball             | 2                    \n",
            " batsman          | V Kohli              \n",
            " non_striker      | R Vinay Kumar        \n",
            " bowler           | R McLaren            \n",
            " batsman_runs     | 1                    \n",
            " extra_runs       | 0                    \n",
            " total_runs       | 1                    \n",
            " non_boundary     | 0                    \n",
            " is_wicket        | 0                    \n",
            " dismissal_kind   | NA                   \n",
            " player_dismissed | NA                   \n",
            " fielder          | NA                   \n",
            " extras_type      | NA                   \n",
            " batting_team     | Royal Challengers... \n",
            " bowling_team     | Mumbai Indians       \n",
            "-RECORD 5--------------------------------\n",
            " match_id         | 419157               \n",
            " inning           | 2                    \n",
            " overs            | 17                   \n",
            " ball             | 3                    \n",
            " batsman          | R Vinay Kumar        \n",
            " non_striker      | V Kohli              \n",
            " bowler           | R McLaren            \n",
            " batsman_runs     | 0                    \n",
            " extra_runs       | 0                    \n",
            " total_runs       | 0                    \n",
            " non_boundary     | 0                    \n",
            " is_wicket        | 0                    \n",
            " dismissal_kind   | NA                   \n",
            " player_dismissed | NA                   \n",
            " fielder          | NA                   \n",
            " extras_type      | NA                   \n",
            " batting_team     | Royal Challengers... \n",
            " bowling_team     | Mumbai Indians       \n",
            "-RECORD 6--------------------------------\n",
            " match_id         | 419157               \n",
            " inning           | 2                    \n",
            " overs            | 17                   \n",
            " ball             | 4                    \n",
            " batsman          | R Vinay Kumar        \n",
            " non_striker      | V Kohli              \n",
            " bowler           | R McLaren            \n",
            " batsman_runs     | 0                    \n",
            " extra_runs       | 0                    \n",
            " total_runs       | 0                    \n",
            " non_boundary     | 0                    \n",
            " is_wicket        | 0                    \n",
            " dismissal_kind   | NA                   \n",
            " player_dismissed | NA                   \n",
            " fielder          | NA                   \n",
            " extras_type      | NA                   \n",
            " batting_team     | Royal Challengers... \n",
            " bowling_team     | Mumbai Indians       \n",
            "-RECORD 7--------------------------------\n",
            " match_id         | 419157               \n",
            " inning           | 2                    \n",
            " overs            | 17                   \n",
            " ball             | 5                    \n",
            " batsman          | R Vinay Kumar        \n",
            " non_striker      | V Kohli              \n",
            " bowler           | R McLaren            \n",
            " batsman_runs     | 1                    \n",
            " extra_runs       | 0                    \n",
            " total_runs       | 1                    \n",
            " non_boundary     | 0                    \n",
            " is_wicket        | 0                    \n",
            " dismissal_kind   | NA                   \n",
            " player_dismissed | NA                   \n",
            " fielder          | NA                   \n",
            " extras_type      | NA                   \n",
            " batting_team     | Royal Challengers... \n",
            " bowling_team     | Mumbai Indians       \n",
            "-RECORD 8--------------------------------\n",
            " match_id         | 419157               \n",
            " inning           | 2                    \n",
            " overs            | 17                   \n",
            " ball             | 6                    \n",
            " batsman          | V Kohli              \n",
            " non_striker      | R Vinay Kumar        \n",
            " bowler           | R McLaren            \n",
            " batsman_runs     | 1                    \n",
            " extra_runs       | 0                    \n",
            " total_runs       | 1                    \n",
            " non_boundary     | 0                    \n",
            " is_wicket        | 0                    \n",
            " dismissal_kind   | NA                   \n",
            " player_dismissed | NA                   \n",
            " fielder          | NA                   \n",
            " extras_type      | NA                   \n",
            " batting_team     | Royal Challengers... \n",
            " bowling_team     | Mumbai Indians       \n",
            "-RECORD 9--------------------------------\n",
            " match_id         | 419157               \n",
            " inning           | 2                    \n",
            " overs            | 18                   \n",
            " ball             | 1                    \n",
            " batsman          | V Kohli              \n",
            " non_striker      | R Vinay Kumar        \n",
            " bowler           | KA Pollard           \n",
            " batsman_runs     | 4                    \n",
            " extra_runs       | 0                    \n",
            " total_runs       | 4                    \n",
            " non_boundary     | 0                    \n",
            " is_wicket        | 0                    \n",
            " dismissal_kind   | NA                   \n",
            " player_dismissed | NA                   \n",
            " fielder          | NA                   \n",
            " extras_type      | NA                   \n",
            " batting_team     | Royal Challengers... \n",
            " bowling_team     | Mumbai Indians       \n",
            "-RECORD 10-------------------------------\n",
            " match_id         | 419157               \n",
            " inning           | 2                    \n",
            " overs            | 18                   \n",
            " ball             | 2                    \n",
            " batsman          | V Kohli              \n",
            " non_striker      | R Vinay Kumar        \n",
            " bowler           | KA Pollard           \n",
            " batsman_runs     | 0                    \n",
            " extra_runs       | 0                    \n",
            " total_runs       | 0                    \n",
            " non_boundary     | 0                    \n",
            " is_wicket        | 1                    \n",
            " dismissal_kind   | caught               \n",
            " player_dismissed | V Kohli              \n",
            " fielder          | AP Tare              \n",
            " extras_type      | NA                   \n",
            " batting_team     | Royal Challengers... \n",
            " bowling_team     | Mumbai Indians       \n",
            "-RECORD 11-------------------------------\n",
            " match_id         | 419157               \n",
            " inning           | 2                    \n",
            " overs            | 18                   \n",
            " ball             | 3                    \n",
            " batsman          | R Vinay Kumar        \n",
            " non_striker      | Pankaj Singh         \n",
            " bowler           | KA Pollard           \n",
            " batsman_runs     | 0                    \n",
            " extra_runs       | 1                    \n",
            " total_runs       | 1                    \n",
            " non_boundary     | 0                    \n",
            " is_wicket        | 0                    \n",
            " dismissal_kind   | NA                   \n",
            " player_dismissed | NA                   \n",
            " fielder          | NA                   \n",
            " extras_type      | wides                \n",
            " batting_team     | Royal Challengers... \n",
            " bowling_team     | Mumbai Indians       \n",
            "-RECORD 12-------------------------------\n",
            " match_id         | 419157               \n",
            " inning           | 2                    \n",
            " overs            | 18                   \n",
            " ball             | 4                    \n",
            " batsman          | R Vinay Kumar        \n",
            " non_striker      | Pankaj Singh         \n",
            " bowler           | KA Pollard           \n",
            " batsman_runs     | 1                    \n",
            " extra_runs       | 0                    \n",
            " total_runs       | 1                    \n",
            " non_boundary     | 0                    \n",
            " is_wicket        | 0                    \n",
            " dismissal_kind   | NA                   \n",
            " player_dismissed | NA                   \n",
            " fielder          | NA                   \n",
            " extras_type      | NA                   \n",
            " batting_team     | Royal Challengers... \n",
            " bowling_team     | Mumbai Indians       \n",
            "-RECORD 13-------------------------------\n",
            " match_id         | 419157               \n",
            " inning           | 2                    \n",
            " overs            | 18                   \n",
            " ball             | 5                    \n",
            " batsman          | Pankaj Singh         \n",
            " non_striker      | R Vinay Kumar        \n",
            " bowler           | KA Pollard           \n",
            " batsman_runs     | 1                    \n",
            " extra_runs       | 0                    \n",
            " total_runs       | 1                    \n",
            " non_boundary     | 0                    \n",
            " is_wicket        | 0                    \n",
            " dismissal_kind   | NA                   \n",
            " player_dismissed | NA                   \n",
            " fielder          | NA                   \n",
            " extras_type      | NA                   \n",
            " batting_team     | Royal Challengers... \n",
            " bowling_team     | Mumbai Indians       \n",
            "-RECORD 14-------------------------------\n",
            " match_id         | 419157               \n",
            " inning           | 2                    \n",
            " overs            | 18                   \n",
            " ball             | 6                    \n",
            " batsman          | R Vinay Kumar        \n",
            " non_striker      | Pankaj Singh         \n",
            " bowler           | KA Pollard           \n",
            " batsman_runs     | 1                    \n",
            " extra_runs       | 0                    \n",
            " total_runs       | 1                    \n",
            " non_boundary     | 0                    \n",
            " is_wicket        | 0                    \n",
            " dismissal_kind   | NA                   \n",
            " player_dismissed | NA                   \n",
            " fielder          | NA                   \n",
            " extras_type      | NA                   \n",
            " batting_team     | Royal Challengers... \n",
            " bowling_team     | Mumbai Indians       \n",
            "-RECORD 15-------------------------------\n",
            " match_id         | 419157               \n",
            " inning           | 2                    \n",
            " overs            | 18                   \n",
            " ball             | 7                    \n",
            " batsman          | Pankaj Singh         \n",
            " non_striker      | R Vinay Kumar        \n",
            " bowler           | KA Pollard           \n",
            " batsman_runs     | 0                    \n",
            " extra_runs       | 0                    \n",
            " total_runs       | 0                    \n",
            " non_boundary     | 0                    \n",
            " is_wicket        | 1                    \n",
            " dismissal_kind   | caught               \n",
            " player_dismissed | Pankaj Singh         \n",
            " fielder          | Z Khan               \n",
            " extras_type      | NA                   \n",
            " batting_team     | Royal Challengers... \n",
            " bowling_team     | Mumbai Indians       \n",
            "-RECORD 16-------------------------------\n",
            " match_id         | 419157               \n",
            " inning           | 2                    \n",
            " overs            | 19                   \n",
            " ball             | 1                    \n",
            " batsman          | A Kumble             \n",
            " non_striker      | R Vinay Kumar        \n",
            " bowler           | R McLaren            \n",
            " batsman_runs     | 0                    \n",
            " extra_runs       | 0                    \n",
            " total_runs       | 0                    \n",
            " non_boundary     | 0                    \n",
            " is_wicket        | 0                    \n",
            " dismissal_kind   | NA                   \n",
            " player_dismissed | NA                   \n",
            " fielder          | NA                   \n",
            " extras_type      | NA                   \n",
            " batting_team     | Royal Challengers... \n",
            " bowling_team     | Mumbai Indians       \n",
            "-RECORD 17-------------------------------\n",
            " match_id         | 419157               \n",
            " inning           | 1                    \n",
            " overs            | 0                    \n",
            " ball             | 1                    \n",
            " batsman          | R McLaren            \n",
            " non_striker      | SR Tendulkar         \n",
            " bowler           | DW Steyn             \n",
            " batsman_runs     | 1                    \n",
            " extra_runs       | 0                    \n",
            " total_runs       | 1                    \n",
            " non_boundary     | 0                    \n",
            " is_wicket        | 0                    \n",
            " dismissal_kind   | NA                   \n",
            " player_dismissed | NA                   \n",
            " fielder          | NA                   \n",
            " extras_type      | NA                   \n",
            " batting_team     | Mumbai Indians       \n",
            " bowling_team     | Royal Challengers... \n",
            "-RECORD 18-------------------------------\n",
            " match_id         | 419157               \n",
            " inning           | 1                    \n",
            " overs            | 0                    \n",
            " ball             | 2                    \n",
            " batsman          | SR Tendulkar         \n",
            " non_striker      | R McLaren            \n",
            " bowler           | DW Steyn             \n",
            " batsman_runs     | 0                    \n",
            " extra_runs       | 0                    \n",
            " total_runs       | 0                    \n",
            " non_boundary     | 0                    \n",
            " is_wicket        | 0                    \n",
            " dismissal_kind   | NA                   \n",
            " player_dismissed | NA                   \n",
            " fielder          | NA                   \n",
            " extras_type      | NA                   \n",
            " batting_team     | Mumbai Indians       \n",
            " bowling_team     | Royal Challengers... \n",
            "-RECORD 19-------------------------------\n",
            " match_id         | 419157               \n",
            " inning           | 1                    \n",
            " overs            | 0                    \n",
            " ball             | 3                    \n",
            " batsman          | SR Tendulkar         \n",
            " non_striker      | R McLaren            \n",
            " bowler           | DW Steyn             \n",
            " batsman_runs     | 1                    \n",
            " extra_runs       | 0                    \n",
            " total_runs       | 1                    \n",
            " non_boundary     | 0                    \n",
            " is_wicket        | 0                    \n",
            " dismissal_kind   | NA                   \n",
            " player_dismissed | NA                   \n",
            " fielder          | NA                   \n",
            " extras_type      | NA                   \n",
            " batting_team     | Mumbai Indians       \n",
            " bowling_team     | Royal Challengers... \n",
            "only showing top 20 rows\n",
            "\n"
          ]
        }
      ]
    },
    {
      "cell_type": "code",
      "source": [
        "df2.select([count(when(isnan(c) | col(c).isNull(), c)).alias(c) for c in df2.columns])\n",
        "df2.show(vertical=True)"
      ],
      "metadata": {
        "colab": {
          "base_uri": "https://localhost:8080/"
        },
        "id": "b1qRWTHIk_po",
        "outputId": "3c2d2483-2cf5-49c1-c12c-8dc98522c73e"
      },
      "execution_count": null,
      "outputs": [
        {
          "output_type": "stream",
          "name": "stdout",
          "text": [
            "-RECORD 0-------------------------------\n",
            " match_id        | 335982               \n",
            " date            | 2008-04-18           \n",
            " player_of_match | BB McCullum          \n",
            " venue_id        | 35                   \n",
            " neutral_venue   | 0                    \n",
            " team1           | Royal Challengers... \n",
            " team2           | Kolkata Knight Ri... \n",
            " toss_winner     | Royal Challengers... \n",
            " toss_decision   | field                \n",
            " winner          | Kolkata Knight Ri... \n",
            " result          | runs                 \n",
            " result_margin   | 140                  \n",
            " eliminator      | N                    \n",
            " method          | NA                   \n",
            " umpire1         | Asad Rauf            \n",
            " umpire2         | RE Koertzen          \n",
            "-RECORD 1-------------------------------\n",
            " match_id        | 335983               \n",
            " date            | 2008-04-19           \n",
            " player_of_match | MEK Hussey           \n",
            " venue_id        | 31                   \n",
            " neutral_venue   | 0                    \n",
            " team1           | Kings XI Punjab      \n",
            " team2           | Chennai Super Kings  \n",
            " toss_winner     | Chennai Super Kings  \n",
            " toss_decision   | bat                  \n",
            " winner          | Chennai Super Kings  \n",
            " result          | runs                 \n",
            " result_margin   | 33                   \n",
            " eliminator      | N                    \n",
            " method          | NA                   \n",
            " umpire1         | MR Benson            \n",
            " umpire2         | SL Shastri           \n",
            "-RECORD 2-------------------------------\n",
            " match_id        | 335984               \n",
            " date            | 2008-04-19           \n",
            " player_of_match | MF Maharoof          \n",
            " venue_id        | 27                   \n",
            " neutral_venue   | 0                    \n",
            " team1           | Delhi Daredevils     \n",
            " team2           | Rajasthan Royals     \n",
            " toss_winner     | Rajasthan Royals     \n",
            " toss_decision   | bat                  \n",
            " winner          | Delhi Daredevils     \n",
            " result          | wickets              \n",
            " result_margin   | 9                    \n",
            " eliminator      | N                    \n",
            " method          | NA                   \n",
            " umpire1         | Aleem Dar            \n",
            " umpire2         | GA Pratapkumar       \n",
            "-RECORD 3-------------------------------\n",
            " match_id        | 335985               \n",
            " date            | 2008-04-20           \n",
            " player_of_match | MV Boucher           \n",
            " venue_id        | 14                   \n",
            " neutral_venue   | 0                    \n",
            " team1           | Mumbai Indians       \n",
            " team2           | Royal Challengers... \n",
            " toss_winner     | Mumbai Indians       \n",
            " toss_decision   | bat                  \n",
            " winner          | Royal Challengers... \n",
            " result          | wickets              \n",
            " result_margin   | 5                    \n",
            " eliminator      | N                    \n",
            " method          | NA                   \n",
            " umpire1         | SJ Davis             \n",
            " umpire2         | DJ Harper            \n",
            "-RECORD 4-------------------------------\n",
            " match_id        | 335986               \n",
            " date            | 2008-04-20           \n",
            " player_of_match | DJ Hussey            \n",
            " venue_id        | 15                   \n",
            " neutral_venue   | 0                    \n",
            " team1           | Kolkata Knight Ri... \n",
            " team2           | Deccan Chargers      \n",
            " toss_winner     | Deccan Chargers      \n",
            " toss_decision   | bat                  \n",
            " winner          | Kolkata Knight Ri... \n",
            " result          | wickets              \n",
            " result_margin   | 5                    \n",
            " eliminator      | N                    \n",
            " method          | NA                   \n",
            " umpire1         | BF Bowden            \n",
            " umpire2         | K Hariharan          \n",
            "-RECORD 5-------------------------------\n",
            " match_id        | 335987               \n",
            " date            | 2008-04-21           \n",
            " player_of_match | SR Watson            \n",
            " venue_id        | 20                   \n",
            " neutral_venue   | 0                    \n",
            " team1           | Rajasthan Royals     \n",
            " team2           | Kings XI Punjab      \n",
            " toss_winner     | Kings XI Punjab      \n",
            " toss_decision   | bat                  \n",
            " winner          | Rajasthan Royals     \n",
            " result          | wickets              \n",
            " result_margin   | 6                    \n",
            " eliminator      | N                    \n",
            " method          | NA                   \n",
            " umpire1         | Aleem Dar            \n",
            " umpire2         | RB Tiffin            \n",
            "-RECORD 6-------------------------------\n",
            " match_id        | 335988               \n",
            " date            | 2008-04-22           \n",
            " player_of_match | V Sehwag             \n",
            " venue_id        | 22                   \n",
            " neutral_venue   | 0                    \n",
            " team1           | Deccan Chargers      \n",
            " team2           | Delhi Daredevils     \n",
            " toss_winner     | Deccan Chargers      \n",
            " toss_decision   | bat                  \n",
            " winner          | Delhi Daredevils     \n",
            " result          | wickets              \n",
            " result_margin   | 9                    \n",
            " eliminator      | N                    \n",
            " method          | NA                   \n",
            " umpire1         | IL Howell            \n",
            " umpire2         | AM Saheba            \n",
            "-RECORD 7-------------------------------\n",
            " match_id        | 335989               \n",
            " date            | 2008-04-23           \n",
            " player_of_match | ML Hayden            \n",
            " venue_id        | 29                   \n",
            " neutral_venue   | 0                    \n",
            " team1           | Chennai Super Kings  \n",
            " team2           | Mumbai Indians       \n",
            " toss_winner     | Mumbai Indians       \n",
            " toss_decision   | field                \n",
            " winner          | Chennai Super Kings  \n",
            " result          | runs                 \n",
            " result_margin   | 6                    \n",
            " eliminator      | N                    \n",
            " method          | NA                   \n",
            " umpire1         | DJ Harper            \n",
            " umpire2         | GA Pratapkumar       \n",
            "-RECORD 8-------------------------------\n",
            " match_id        | 335990               \n",
            " date            | 2008-04-24           \n",
            " player_of_match | YK Pathan            \n",
            " venue_id        | 22                   \n",
            " neutral_venue   | 0                    \n",
            " team1           | Deccan Chargers      \n",
            " team2           | Rajasthan Royals     \n",
            " toss_winner     | Rajasthan Royals     \n",
            " toss_decision   | field                \n",
            " winner          | Rajasthan Royals     \n",
            " result          | wickets              \n",
            " result_margin   | 3                    \n",
            " eliminator      | N                    \n",
            " method          | NA                   \n",
            " umpire1         | Asad Rauf            \n",
            " umpire2         | MR Benson            \n",
            "-RECORD 9-------------------------------\n",
            " match_id        | 335991               \n",
            " date            | 2008-04-25           \n",
            " player_of_match | KC Sangakkara        \n",
            " venue_id        | 31                   \n",
            " neutral_venue   | 0                    \n",
            " team1           | Kings XI Punjab      \n",
            " team2           | Mumbai Indians       \n",
            " toss_winner     | Mumbai Indians       \n",
            " toss_decision   | field                \n",
            " winner          | Kings XI Punjab      \n",
            " result          | runs                 \n",
            " result_margin   | 66                   \n",
            " eliminator      | N                    \n",
            " method          | NA                   \n",
            " umpire1         | Aleem Dar            \n",
            " umpire2         | AM Saheba            \n",
            "-RECORD 10------------------------------\n",
            " match_id        | 335992               \n",
            " date            | 2008-04-26           \n",
            " player_of_match | SR Watson            \n",
            " venue_id        | 35                   \n",
            " neutral_venue   | 0                    \n",
            " team1           | Royal Challengers... \n",
            " team2           | Rajasthan Royals     \n",
            " toss_winner     | Rajasthan Royals     \n",
            " toss_decision   | field                \n",
            " winner          | Rajasthan Royals     \n",
            " result          | wickets              \n",
            " result_margin   | 7                    \n",
            " eliminator      | N                    \n",
            " method          | NA                   \n",
            " umpire1         | MR Benson            \n",
            " umpire2         | IL Howell            \n",
            "-RECORD 11------------------------------\n",
            " match_id        | 335993               \n",
            " date            | 2008-04-26           \n",
            " player_of_match | JDP Oram             \n",
            " venue_id        | 29                   \n",
            " neutral_venue   | 0                    \n",
            " team1           | Chennai Super Kings  \n",
            " team2           | Kolkata Knight Ri... \n",
            " toss_winner     | Kolkata Knight Ri... \n",
            " toss_decision   | bat                  \n",
            " winner          | Chennai Super Kings  \n",
            " result          | wickets              \n",
            " result_margin   | 9                    \n",
            " eliminator      | N                    \n",
            " method          | NA                   \n",
            " umpire1         | BF Bowden            \n",
            " umpire2         | AV Jayaprakash       \n",
            "-RECORD 12------------------------------\n",
            " match_id        | 335994               \n",
            " date            | 2008-04-27           \n",
            " player_of_match | AC Gilchrist         \n",
            " venue_id        | 13                   \n",
            " neutral_venue   | 0                    \n",
            " team1           | Mumbai Indians       \n",
            " team2           | Deccan Chargers      \n",
            " toss_winner     | Deccan Chargers      \n",
            " toss_decision   | field                \n",
            " winner          | Deccan Chargers      \n",
            " result          | wickets              \n",
            " result_margin   | 10                   \n",
            " eliminator      | N                    \n",
            " method          | NA                   \n",
            " umpire1         | Asad Rauf            \n",
            " umpire2         | SL Shastri           \n",
            "-RECORD 13------------------------------\n",
            " match_id        | 335995               \n",
            " date            | 2008-04-27           \n",
            " player_of_match | SM Katich            \n",
            " venue_id        | 31                   \n",
            " neutral_venue   | 0                    \n",
            " team1           | Kings XI Punjab      \n",
            " team2           | Delhi Daredevils     \n",
            " toss_winner     | Delhi Daredevils     \n",
            " toss_decision   | bat                  \n",
            " winner          | Kings XI Punjab      \n",
            " result          | wickets              \n",
            " result_margin   | 4                    \n",
            " eliminator      | N                    \n",
            " method          | NA                   \n",
            " umpire1         | RE Koertzen          \n",
            " umpire2         | I Shivram            \n",
            "-RECORD 14------------------------------\n",
            " match_id        | 335996               \n",
            " date            | 2008-04-28           \n",
            " player_of_match | MS Dhoni             \n",
            " venue_id        | 35                   \n",
            " neutral_venue   | 0                    \n",
            " team1           | Royal Challengers... \n",
            " team2           | Chennai Super Kings  \n",
            " toss_winner     | Chennai Super Kings  \n",
            " toss_decision   | bat                  \n",
            " winner          | Chennai Super Kings  \n",
            " result          | runs                 \n",
            " result_margin   | 13                   \n",
            " eliminator      | N                    \n",
            " method          | NA                   \n",
            " umpire1         | BR Doctrove          \n",
            " umpire2         | RB Tiffin            \n",
            "-RECORD 15------------------------------\n",
            " match_id        | 335997               \n",
            " date            | 2008-04-29           \n",
            " player_of_match | ST Jayasuriya        \n",
            " venue_id        | 15                   \n",
            " neutral_venue   | 0                    \n",
            " team1           | Kolkata Knight Ri... \n",
            " team2           | Mumbai Indians       \n",
            " toss_winner     | Kolkata Knight Ri... \n",
            " toss_decision   | bat                  \n",
            " winner          | Mumbai Indians       \n",
            " result          | wickets              \n",
            " result_margin   | 7                    \n",
            " eliminator      | N                    \n",
            " method          | NA                   \n",
            " umpire1         | BF Bowden            \n",
            " umpire2         | AV Jayaprakash       \n",
            "-RECORD 16------------------------------\n",
            " match_id        | 335998               \n",
            " date            | 2008-04-30           \n",
            " player_of_match | GD McGrath           \n",
            " venue_id        | 27                   \n",
            " neutral_venue   | 0                    \n",
            " team1           | Delhi Daredevils     \n",
            " team2           | Royal Challengers... \n",
            " toss_winner     | Royal Challengers... \n",
            " toss_decision   | field                \n",
            " winner          | Delhi Daredevils     \n",
            " result          | runs                 \n",
            " result_margin   | 10                   \n",
            " eliminator      | N                    \n",
            " method          | NA                   \n",
            " umpire1         | Aleem Dar            \n",
            " umpire2         | I Shivram            \n",
            "-RECORD 17------------------------------\n",
            " match_id        | 335999               \n",
            " date            | 2008-05-01           \n",
            " player_of_match | SE Marsh             \n",
            " venue_id        | 22                   \n",
            " neutral_venue   | 0                    \n",
            " team1           | Deccan Chargers      \n",
            " team2           | Kings XI Punjab      \n",
            " toss_winner     | Kings XI Punjab      \n",
            " toss_decision   | field                \n",
            " winner          | Kings XI Punjab      \n",
            " result          | wickets              \n",
            " result_margin   | 7                    \n",
            " eliminator      | N                    \n",
            " method          | NA                   \n",
            " umpire1         | BR Doctrove          \n",
            " umpire2         | RB Tiffin            \n",
            "-RECORD 18------------------------------\n",
            " match_id        | 336000               \n",
            " date            | 2008-05-01           \n",
            " player_of_match | SA Asnodkar          \n",
            " venue_id        | 20                   \n",
            " neutral_venue   | 0                    \n",
            " team1           | Rajasthan Royals     \n",
            " team2           | Kolkata Knight Ri... \n",
            " toss_winner     | Rajasthan Royals     \n",
            " toss_decision   | bat                  \n",
            " winner          | Rajasthan Royals     \n",
            " result          | runs                 \n",
            " result_margin   | 45                   \n",
            " eliminator      | N                    \n",
            " method          | NA                   \n",
            " umpire1         | RE Koertzen          \n",
            " umpire2         | GA Pratapkumar       \n",
            "-RECORD 19------------------------------\n",
            " match_id        | 336001               \n",
            " date            | 2008-05-02           \n",
            " player_of_match | V Sehwag             \n",
            " venue_id        | 29                   \n",
            " neutral_venue   | 0                    \n",
            " team1           | Chennai Super Kings  \n",
            " team2           | Delhi Daredevils     \n",
            " toss_winner     | Chennai Super Kings  \n",
            " toss_decision   | bat                  \n",
            " winner          | Delhi Daredevils     \n",
            " result          | wickets              \n",
            " result_margin   | 8                    \n",
            " eliminator      | N                    \n",
            " method          | NA                   \n",
            " umpire1         | BF Bowden            \n",
            " umpire2         | K Hariharan          \n",
            "only showing top 20 rows\n",
            "\n"
          ]
        }
      ]
    },
    {
      "cell_type": "code",
      "source": [
        "df3.select([count(when(isnan(c) | col(c).isNull(), c)).alias(c) for c in df3.columns]).show(vertical = True)\n",
        "df3.show(vertical=True)"
      ],
      "metadata": {
        "colab": {
          "base_uri": "https://localhost:8080/"
        },
        "id": "2OyRTbZbpWvK",
        "outputId": "57a8508d-e6b5-4ce0-d54c-0947b90759fd"
      },
      "execution_count": null,
      "outputs": [
        {
          "output_type": "stream",
          "name": "stdout",
          "text": [
            "-RECORD 0-------\n",
            " venue_id | 0   \n",
            " venue    | 0   \n",
            " city     | 0   \n",
            "\n",
            "-RECORD 0------------------------\n",
            " venue_id | 1                    \n",
            " venue    | Dr. Y.S. Rajasekh... \n",
            " city     | Visakhapatnam        \n",
            "-RECORD 1------------------------\n",
            " venue_id | 2                    \n",
            " venue    | Sharjah Cricket S... \n",
            " city     | Sharjah              \n",
            "-RECORD 2------------------------\n",
            " venue_id | 3                    \n",
            " venue    | JSCA Internationa... \n",
            " city     | Ranchi               \n",
            "-RECORD 3------------------------\n",
            " venue_id | 4                    \n",
            " venue    | Saurashtra Cricke... \n",
            " city     | Rajkot               \n",
            "-RECORD 4------------------------\n",
            " venue_id | 5                    \n",
            " venue    | Shaheed Veer Nara... \n",
            " city     | Raipur               \n",
            "-RECORD 5------------------------\n",
            " venue_id | 6                    \n",
            " venue    | Maharashtra Crick... \n",
            " city     | Pune                 \n",
            "-RECORD 6------------------------\n",
            " venue_id | 7                    \n",
            " venue    | Subrata Roy Sahar... \n",
            " city     | Pune                 \n",
            "-RECORD 7------------------------\n",
            " venue_id | 8                    \n",
            " venue    | St George's Park     \n",
            " city     | Port Elizabeth       \n",
            "-RECORD 8------------------------\n",
            " venue_id | 9                    \n",
            " venue    | Vidarbha Cricket ... \n",
            " city     | Nagpur               \n",
            "-RECORD 9------------------------\n",
            " venue_id | 12                   \n",
            " venue    | Brabourne Stadium    \n",
            " city     | Mumbai               \n",
            "-RECORD 10-----------------------\n",
            " venue_id | 13                   \n",
            " venue    | Dr DY Patil Sport... \n",
            " city     | Mumbai               \n",
            "-RECORD 11-----------------------\n",
            " venue_id | 14                   \n",
            " venue    | Wankhede Stadium     \n",
            " city     | Mumbai               \n",
            "-RECORD 12-----------------------\n",
            " venue_id | 15                   \n",
            " venue    | Eden Gardens         \n",
            " city     | Kolkata              \n",
            "-RECORD 13-----------------------\n",
            " venue_id | 16                   \n",
            " venue    | Nehru Stadium        \n",
            " city     | Kochi                \n",
            "-RECORD 14-----------------------\n",
            " venue_id | 17                   \n",
            " venue    | De Beers Diamond ... \n",
            " city     | Kimberley            \n",
            "-RECORD 15-----------------------\n",
            " venue_id | 18                   \n",
            " venue    | Green Park           \n",
            " city     | Kanpur               \n",
            "-RECORD 16-----------------------\n",
            " venue_id | 19                   \n",
            " venue    | New Wanderers Sta... \n",
            " city     | Johannesburg         \n",
            "-RECORD 17-----------------------\n",
            " venue_id | 20                   \n",
            " venue    | Sawai Mansingh St... \n",
            " city     | Jaipur               \n",
            "-RECORD 18-----------------------\n",
            " venue_id | 21                   \n",
            " venue    | Holkar Cricket St... \n",
            " city     | Indore               \n",
            "-RECORD 19-----------------------\n",
            " venue_id | 22                   \n",
            " venue    | Rajiv Gandhi Inte... \n",
            " city     | Hyderabad            \n",
            "only showing top 20 rows\n",
            "\n"
          ]
        }
      ]
    },
    {
      "cell_type": "markdown",
      "source": [
        "# ANALYSIS"
      ],
      "metadata": {
        "id": "_aBUrlfMpdEQ"
      }
    },
    {
      "cell_type": "markdown",
      "source": [
        "### 1. Find the top 3 venues which hosted the most number of eliminator matches?"
      ],
      "metadata": {
        "id": "f1HrMwY6p4J7"
      }
    },
    {
      "cell_type": "code",
      "source": [
        "from pyspark.sql.functions import col\n",
        "from pyspark.sql import Row\n",
        "from pyspark.sql.functions import sum as _sum\n",
        "from pyspark.sql.functions import count as _count"
      ],
      "metadata": {
        "id": "yV9gXa7etlPk"
      },
      "execution_count": null,
      "outputs": []
    },
    {
      "cell_type": "code",
      "source": [
        "eli = df2.filter(df2.eliminator =='Y')\n",
        "eli_ans = eli.groupBy('venue_id').count().sort('count',ascending=False)\n",
        "eli_ans.show()"
      ],
      "metadata": {
        "colab": {
          "base_uri": "https://localhost:8080/"
        },
        "id": "ILSLVV0LtuGr",
        "outputId": "043dc1e4-fe4e-4da4-9fe9-4e250a63c147"
      },
      "execution_count": null,
      "outputs": [
        {
          "output_type": "stream",
          "name": "stdout",
          "text": [
            "+--------+-----+\n",
            "|venue_id|count|\n",
            "+--------+-----+\n",
            "|      25|    3|\n",
            "|      38|    2|\n",
            "|      27|    1|\n",
            "|      22|    1|\n",
            "|      35|    1|\n",
            "|      37|    1|\n",
            "|       4|    1|\n",
            "|      29|    1|\n",
            "|      33|    1|\n",
            "|      14|    1|\n",
            "+--------+-----+\n",
            "\n"
          ]
        }
      ]
    },
    {
      "cell_type": "code",
      "source": [
        "ans = df3.join(eli_ans,on='venue_id')\n",
        "f_ans = ans.sort('count',ascending=False)\n",
        "f_ans.show(3)"
      ],
      "metadata": {
        "colab": {
          "base_uri": "https://localhost:8080/"
        },
        "id": "hQSc1LRjsd7q",
        "outputId": "f9b53c9f-089c-431f-b4c0-2a6516352ba8"
      },
      "execution_count": null,
      "outputs": [
        {
          "output_type": "stream",
          "name": "stdout",
          "text": [
            "+--------+--------------------+---------+-----+\n",
            "|venue_id|               venue|     city|count|\n",
            "+--------+--------------------+---------+-----+\n",
            "|      25|Dubai Internation...|    Dubai|    3|\n",
            "|      38|Sheikh Zayed Stadium|Abu Dhabi|    2|\n",
            "|      22|Rajiv Gandhi Inte...|Hyderabad|    1|\n",
            "+--------+--------------------+---------+-----+\n",
            "only showing top 3 rows\n",
            "\n"
          ]
        }
      ]
    },
    {
      "cell_type": "markdown",
      "source": [
        "### 2. Return most number of catches taken by a player in IPL history?\n"
      ],
      "metadata": {
        "id": "hpWp6xfs0fhu"
      }
    },
    {
      "cell_type": "code",
      "source": [
        "spark.sql(\n",
        "\"\"\"\n",
        "select fielder,count(*) from ipl_ball\n",
        "where dismissal_kind == 'caught'\n",
        "group by fielder\n",
        "order by count(*) desc\n",
        "\"\"\"\n",
        ").show()"
      ],
      "metadata": {
        "colab": {
          "base_uri": "https://localhost:8080/"
        },
        "id": "i6IhGnAy20mm",
        "outputId": "1122484a-23c3-4fef-c53c-d9d95116623a"
      },
      "execution_count": null,
      "outputs": [
        {
          "output_type": "stream",
          "name": "stdout",
          "text": [
            "+--------------+--------+\n",
            "|       fielder|count(1)|\n",
            "+--------------+--------+\n",
            "|      MS Dhoni|      24|\n",
            "|     RG Sharma|      22|\n",
            "|    RV Uthappa|      20|\n",
            "|     AT Rayudu|      16|\n",
            "|    KA Pollard|      15|\n",
            "|      DJ Bravo|      14|\n",
            "|    KD Karthik|      13|\n",
            "|       WP Saha|      13|\n",
            "|AB de Villiers|      12|\n",
            "|      S Dhawan|      12|\n",
            "|     RA Jadeja|      11|\n",
            "|      PA Patel|      11|\n",
            "|      SK Raina|      10|\n",
            "|      SA Yadav|      10|\n",
            "|     SV Samson|      10|\n",
            "|     DA Warner|      10|\n",
            "|   YV Takawale|       9|\n",
            "|       NV Ojha|       9|\n",
            "|       J Botha|       9|\n",
            "|     MK Tiwary|       9|\n",
            "+--------------+--------+\n",
            "only showing top 20 rows\n",
            "\n"
          ]
        }
      ]
    },
    {
      "cell_type": "code",
      "source": [
        "ans2 = df.filter(df.dismissal_kind == \"caught\")\n",
        "anss2 = ans2.groupBy('fielder').count().sort('count',ascending=False)\n",
        "anss2.show()"
      ],
      "metadata": {
        "colab": {
          "base_uri": "https://localhost:8080/"
        },
        "id": "RHAtNTgG47jt",
        "outputId": "ce1e4e79-c5ac-4c03-a860-de018fde0338"
      },
      "execution_count": null,
      "outputs": [
        {
          "output_type": "stream",
          "name": "stdout",
          "text": [
            "+--------------+-----+\n",
            "|       fielder|count|\n",
            "+--------------+-----+\n",
            "|      MS Dhoni|   24|\n",
            "|     RG Sharma|   22|\n",
            "|    RV Uthappa|   20|\n",
            "|     AT Rayudu|   16|\n",
            "|    KA Pollard|   15|\n",
            "|      DJ Bravo|   14|\n",
            "|       WP Saha|   13|\n",
            "|    KD Karthik|   13|\n",
            "|AB de Villiers|   12|\n",
            "|      S Dhawan|   12|\n",
            "|     RA Jadeja|   11|\n",
            "|      PA Patel|   11|\n",
            "|     SV Samson|   10|\n",
            "|     DA Warner|   10|\n",
            "|      SA Yadav|   10|\n",
            "|      SK Raina|   10|\n",
            "|     MK Tiwary|    9|\n",
            "|     HH Pandya|    9|\n",
            "|     JH Kallis|    9|\n",
            "|       J Botha|    9|\n",
            "+--------------+-----+\n",
            "only showing top 20 rows\n",
            "\n"
          ]
        }
      ]
    },
    {
      "cell_type": "markdown",
      "source": [
        "### 3. Write a query to return a report for highest wicket taker in matches which were affected by Duckworth-Lewis’s method (D/L method).\n"
      ],
      "metadata": {
        "id": "401MM7Ov5j02"
      }
    },
    {
      "cell_type": "code",
      "source": [
        "ans3 = df2.filter(df2.method == 'D/L')\n",
        "anss3 = ans3.groupBy('match_id').count()\n",
        "anss3.show()"
      ],
      "metadata": {
        "colab": {
          "base_uri": "https://localhost:8080/"
        },
        "id": "wST9RT6m5s_d",
        "outputId": "dbbb3ee7-f9bb-43e7-d83f-acdf2415b4a8"
      },
      "execution_count": null,
      "outputs": [
        {
          "output_type": "stream",
          "name": "stdout",
          "text": [
            "+--------+-----+\n",
            "|match_id|count|\n",
            "+--------+-----+\n",
            "|  501245|    1|\n",
            "|  829807|    1|\n",
            "| 1136578|    1|\n",
            "|  733993|    1|\n",
            "|  392183|    1|\n",
            "|  336025|    1|\n",
            "| 1136566|    1|\n",
            "|  392186|    1|\n",
            "|  336022|    1|\n",
            "|  980999|    1|\n",
            "|  980989|    1|\n",
            "| 1136592|    1|\n",
            "|  829743|    1|\n",
            "|  980997|    1|\n",
            "|  980943|    1|\n",
            "|  392214|    1|\n",
            "|  501215|    1|\n",
            "| 1082648|    1|\n",
            "|  501255|    1|\n",
            "+--------+-----+\n",
            "\n"
          ]
        }
      ]
    },
    {
      "cell_type": "code",
      "source": [
        "wicket = df.join(anss3,on='match_id')\n",
        "wicket_ans = wicket.groupBy(['match_id','bowler']).sum('is_wicket')\n",
        "wicket_ans.sort('sum(is_wicket)',ascending=False).show()"
      ],
      "metadata": {
        "colab": {
          "base_uri": "https://localhost:8080/"
        },
        "id": "2sdPjMCX7jmY",
        "outputId": "34587d7c-14b0-4512-baff-6c64b491bd46"
      },
      "execution_count": null,
      "outputs": [
        {
          "output_type": "stream",
          "name": "stdout",
          "text": [
            "+--------+---------------+--------------+\n",
            "|match_id|         bowler|sum(is_wicket)|\n",
            "+--------+---------------+--------------+\n",
            "|  336025|        M Ntini|             4|\n",
            "| 1082648|NM Coulter-Nile|             3|\n",
            "| 1082648|       UT Yadav|             2|\n",
            "| 1082648|        B Kumar|             2|\n",
            "|  829743|       M Morkel|             2|\n",
            "|  336022|       JR Hopes|             2|\n",
            "|  336022|       RR Powar|             2|\n",
            "|  829743|      RS Bopara|             1|\n",
            "| 1082648|      CJ Jordan|             1|\n",
            "|  829743|   MC Henriques|             1|\n",
            "|  336022|     GD McGrath|             1|\n",
            "|  829743|        P Kumar|             1|\n",
            "|  829743|     AD Russell|             1|\n",
            "| 1082648|       TA Boult|             1|\n",
            "|  336022|     PJ Sangwan|             1|\n",
            "|  336022|       A Mishra|             1|\n",
            "|  336025|       L Balaji|             1|\n",
            "|  829743|        B Kumar|             1|\n",
            "|  829743|       UT Yadav|             1|\n",
            "| 1082648|      PP Chawla|             1|\n",
            "+--------+---------------+--------------+\n",
            "only showing top 20 rows\n",
            "\n"
          ]
        }
      ]
    },
    {
      "cell_type": "markdown",
      "source": [
        "### 4. Write a query to return a report for highest strike rate by a batsman in non powerplay overs(7-20 overs) Note: strike rate = (Total Runs scored/Total balls faced by player) *100, Make sure that balls faced by players should be legal delivery (not wide balls or no balls)."
      ],
      "metadata": {
        "id": "KabUatmj-IGt"
      }
    },
    {
      "cell_type": "code",
      "source": [
        "ans4 = df.filter((~df['extras_type'].isin(['wides', 'noballs']))& (df['overs'].between(7,20)))\n",
        "runs=ans4.groupBy('batsman').sum('batsman_runs')\n",
        "runs.show() "
      ],
      "metadata": {
        "colab": {
          "base_uri": "https://localhost:8080/"
        },
        "id": "Clww6ice-VNs",
        "outputId": "86346b66-4215-4a75-eeb4-bca6c06c4216"
      },
      "execution_count": null,
      "outputs": [
        {
          "output_type": "stream",
          "name": "stdout",
          "text": [
            "+---------------+-----------------+\n",
            "|        batsman|sum(batsman_runs)|\n",
            "+---------------+-----------------+\n",
            "|  Kuldeep Yadav|               17|\n",
            "|     TM Dilshan|              115|\n",
            "|     S Anirudha|               62|\n",
            "|     KA Pollard|              487|\n",
            "|        J Botha|              131|\n",
            "|       DR Smith|              108|\n",
            "|       M Manhas|               21|\n",
            "|       AR Patel|              134|\n",
            "|       SA Yadav|              203|\n",
            "|          B Lee|                5|\n",
            "|    BMAJ Mendis|                0|\n",
            "|NM Coulter-Nile|               36|\n",
            "|     AL Menaria|               23|\n",
            "|       HV Patel|                6|\n",
            "|      LPC Silva|               16|\n",
            "|Joginder Sharma|               16|\n",
            "|KB Arun Karthik|               24|\n",
            "|      YK Pathan|              374|\n",
            "|       RK Singh|                8|\n",
            "|      RG Sharma|              572|\n",
            "+---------------+-----------------+\n",
            "only showing top 20 rows\n",
            "\n"
          ]
        }
      ]
    },
    {
      "cell_type": "code",
      "source": [
        "balls_faced=ans4.groupby('batsman').count()\n",
        "\n",
        "balls_faced.show()"
      ],
      "metadata": {
        "colab": {
          "base_uri": "https://localhost:8080/"
        },
        "id": "0RaaKDxKC__6",
        "outputId": "81ec498c-69d0-4f32-e15d-bb69ba1c0c53"
      },
      "execution_count": null,
      "outputs": [
        {
          "output_type": "stream",
          "name": "stdout",
          "text": [
            "+---------------+-----+\n",
            "|        batsman|count|\n",
            "+---------------+-----+\n",
            "|  Kuldeep Yadav|   17|\n",
            "|     TM Dilshan|   84|\n",
            "|     S Anirudha|   52|\n",
            "|     KA Pollard|  282|\n",
            "|        J Botha|   86|\n",
            "|       DR Smith|   60|\n",
            "|       M Manhas|   26|\n",
            "|       AR Patel|  106|\n",
            "|       SA Yadav|  152|\n",
            "|          B Lee|    6|\n",
            "|    BMAJ Mendis|    1|\n",
            "|NM Coulter-Nile|   26|\n",
            "|     AL Menaria|   17|\n",
            "|       HV Patel|    3|\n",
            "|      LPC Silva|   10|\n",
            "|Joginder Sharma|    9|\n",
            "|KB Arun Karthik|   25|\n",
            "|      YK Pathan|  254|\n",
            "|       RK Singh|   10|\n",
            "|      RG Sharma|  376|\n",
            "+---------------+-----+\n",
            "only showing top 20 rows\n",
            "\n"
          ]
        }
      ]
    },
    {
      "cell_type": "code",
      "source": [
        "ans_4=balls_faced.join(runs,on=\"batsman\", how=\"inner\")\n",
        "anss_4=ans_4.withColumn(\"Strike rate\", col(\"sum(batsman_runs)\")*100/col(\"count\")).sort('Strike rate',ascending=False)\n",
        "anss_4.select('batsman','Strike rate').show()"
      ],
      "metadata": {
        "colab": {
          "base_uri": "https://localhost:8080/"
        },
        "id": "KrP1BtmW-VDJ",
        "outputId": "24eb8cc2-10d4-47e8-ebd2-57314ce12196"
      },
      "execution_count": null,
      "outputs": [
        {
          "output_type": "stream",
          "name": "stdout",
          "text": [
            "+-------------+------------------+\n",
            "|      batsman|       Strike rate|\n",
            "+-------------+------------------+\n",
            "| Kamran Akmal|             300.0|\n",
            "|  SW Billings|252.38095238095238|\n",
            "|ST Jayasuriya| 241.1764705882353|\n",
            "|     JD Ryder|             225.0|\n",
            "|     Umar Gul|216.66666666666666|\n",
            "| TU Deshpande|             200.0|\n",
            "|   D Salunkhe|             200.0|\n",
            "|      GB Hogg|             200.0|\n",
            "|   AUK Pathan|             200.0|\n",
            "|     HV Patel|             200.0|\n",
            "|     M Morkel|191.66666666666666|\n",
            "|      MS Gony|188.88888888888889|\n",
            "|    JC Archer|187.09677419354838|\n",
            "|     DJ Hooda|187.03703703703704|\n",
            "|  LH Ferguson| 184.6153846153846|\n",
            "|     V Sehwag|183.33333333333334|\n",
            "|  Sunny Singh| 181.8181818181818|\n",
            "|    SR Watson|  180.327868852459|\n",
            "|   SD Chitnis|             180.0|\n",
            "|    J Suchith|             180.0|\n",
            "+-------------+------------------+\n",
            "only showing top 20 rows\n",
            "\n"
          ]
        }
      ]
    },
    {
      "cell_type": "markdown",
      "source": [
        "### 5. Write a query to return a report for highest extra runs in a venue (stadium, city)."
      ],
      "metadata": {
        "id": "7f1UH5OK-Uwb"
      }
    },
    {
      "cell_type": "code",
      "source": [
        "ans_5=df.groupby(['match_id']).sum('extra_runs').sort('sum(extra_runs)',ascending=False)\n",
        "ans_5.show()"
      ],
      "metadata": {
        "colab": {
          "base_uri": "https://localhost:8080/"
        },
        "id": "SfPjelQtFp50",
        "outputId": "9a74500a-ad7b-4b5c-dbdc-ab9dac9f9137"
      },
      "execution_count": null,
      "outputs": [
        {
          "output_type": "stream",
          "name": "stdout",
          "text": [
            "+--------+---------------+\n",
            "|match_id|sum(extra_runs)|\n",
            "+--------+---------------+\n",
            "|  336028|             35|\n",
            "|  829737|             33|\n",
            "|  336023|             32|\n",
            "|  336018|             28|\n",
            "|  336015|             28|\n",
            "|  336024|             27|\n",
            "| 1082644|             25|\n",
            "|  501200|             24|\n",
            "|  419163|             24|\n",
            "|  336016|             24|\n",
            "|  336012|             24|\n",
            "|  598004|             24|\n",
            "| 1216522|             23|\n",
            "|  419162|             23|\n",
            "|  336009|             23|\n",
            "|  597999|             23|\n",
            "|  419165|             23|\n",
            "|  501207|             22|\n",
            "|  336026|             21|\n",
            "|  336014|             21|\n",
            "+--------+---------------+\n",
            "only showing top 20 rows\n",
            "\n"
          ]
        }
      ]
    },
    {
      "cell_type": "code",
      "source": [
        "anss_5 = df2.join(ans_5,on='match_id').sort('sum(extra_runs)',ascending=False)\n",
        "anss_5.show(5)"
      ],
      "metadata": {
        "colab": {
          "base_uri": "https://localhost:8080/"
        },
        "id": "q_6KV7AAFp1c",
        "outputId": "19a4e00f-3613-4270-ddab-5a5d66fd975a"
      },
      "execution_count": null,
      "outputs": [
        {
          "output_type": "stream",
          "name": "stdout",
          "text": [
            "+--------+----------+---------------+--------+-------------+--------------------+--------------------+--------------------+-------------+----------------+-------+-------------+----------+------+--------------+--------------+---------------+\n",
            "|match_id|      date|player_of_match|venue_id|neutral_venue|               team1|               team2|         toss_winner|toss_decision|          winner| result|result_margin|eliminator|method|       umpire1|       umpire2|sum(extra_runs)|\n",
            "+--------+----------+---------------+--------+-------------+--------------------+--------------------+--------------------+-------------+----------------+-------+-------------+----------+------+--------------+--------------+---------------+\n",
            "|  336028|2008-05-21|       SE Marsh|      14|            0|      Mumbai Indians|     Kings XI Punjab|      Mumbai Indians|        field| Kings XI Punjab|   runs|            1|         N|    NA|     BF Bowden|GA Pratapkumar|             35|\n",
            "|  829737|2015-04-19|Harbhajan Singh|      35|            0|Royal Challengers...|      Mumbai Indians|Royal Challengers...|        field|  Mumbai Indians|   runs|           18|         N|    NA|RK Illingworth|   VA Kulkarni|             33|\n",
            "|  336023|2008-05-17|       GC Smith|      20|            0|    Rajasthan Royals|Royal Challengers...|Royal Challengers...|        field|Rajasthan Royals|   runs|           65|         N|    NA|     BF Bowden|    SL Shastri|             32|\n",
            "|  336018|2008-05-14|  ST Jayasuriya|      14|            0|      Mumbai Indians| Chennai Super Kings|      Mumbai Indians|        field|  Mumbai Indians|wickets|            9|         N|    NA|   BR Doctrove|     AM Saheba|             28|\n",
            "|  336015|2008-05-11|      SR Watson|      20|            0|    Rajasthan Royals|    Delhi Daredevils|    Rajasthan Royals|        field|Rajasthan Royals|wickets|            3|         N|    NA|      SJ Davis|   RE Koertzen|             28|\n",
            "+--------+----------+---------------+--------+-------------+--------------------+--------------------+--------------------+-------------+----------------+-------+-------------+----------+------+--------------+--------------+---------------+\n",
            "only showing top 5 rows\n",
            "\n"
          ]
        }
      ]
    },
    {
      "cell_type": "code",
      "source": [
        "ansss_5 = df3.join(anss_5,on='venue_id').sort('sum(extra_runs)',ascending=False)\n",
        "ansss_5.select('venue','city','sum(extra_runs)').show(10)"
      ],
      "metadata": {
        "colab": {
          "base_uri": "https://localhost:8080/"
        },
        "id": "fzavxItKFpwG",
        "outputId": "ba9ad7cd-ca9d-451b-e412-17114903a1df"
      },
      "execution_count": null,
      "outputs": [
        {
          "output_type": "stream",
          "name": "stdout",
          "text": [
            "+--------------------+---------+---------------+\n",
            "|               venue|     city|sum(extra_runs)|\n",
            "+--------------------+---------+---------------+\n",
            "|    Wankhede Stadium|   Mumbai|             35|\n",
            "|M.Chinnaswamy Sta...|Bengaluru|             33|\n",
            "|Sawai Mansingh St...|   Jaipur|             32|\n",
            "|    Wankhede Stadium|   Mumbai|             28|\n",
            "|Sawai Mansingh St...|   Jaipur|             28|\n",
            "|Rajiv Gandhi Inte...|Hyderabad|             27|\n",
            "|        Eden Gardens|  Kolkata|             25|\n",
            "|M.Chinnaswamy Sta...|Bengaluru|             24|\n",
            "|       Nehru Stadium|    Kochi|             24|\n",
            "|Dr DY Patil Sport...|   Mumbai|             24|\n",
            "+--------------------+---------+---------------+\n",
            "only showing top 10 rows\n",
            "\n"
          ]
        }
      ]
    },
    {
      "cell_type": "markdown",
      "source": [
        "### 6. Write a query to return a report for the cricketers with the most number of players of the match award in neutral venues.\n"
      ],
      "metadata": {
        "id": "FoX1WMipKXwF"
      }
    },
    {
      "cell_type": "code",
      "source": [
        "ans_6 = df2.filter(df2.neutral_venue == \"1\")\n",
        "anss_6 = ans_6.groupBy('player_of_match').count().sort('count',ascending=False)\n",
        "anss_6.show()"
      ],
      "metadata": {
        "colab": {
          "base_uri": "https://localhost:8080/"
        },
        "id": "5_5GWzAlLCg2",
        "outputId": "38e3fd1c-8fba-4387-f2fe-d522843bea5a"
      },
      "execution_count": null,
      "outputs": [
        {
          "output_type": "stream",
          "name": "stdout",
          "text": [
            "+----------------+-----+\n",
            "| player_of_match|count|\n",
            "+----------------+-----+\n",
            "|       YK Pathan|    3|\n",
            "|       JP Duminy|    3|\n",
            "|      GJ Maxwell|    3|\n",
            "|       JH Kallis|    3|\n",
            "|  Sandeep Sharma|    2|\n",
            "|       ML Hayden|    2|\n",
            "|       RG Sharma|    2|\n",
            "|    SR Tendulkar|    2|\n",
            "|        DR Smith|    2|\n",
            "|    Yuvraj Singh|    2|\n",
            "|   KC Sangakkara|    2|\n",
            "|DPMD Jayawardene|    2|\n",
            "|  M Muralitharan|    2|\n",
            "|     LRPL Taylor|    2|\n",
            "|       MK Pandey|    2|\n",
            "|        SK Raina|    2|\n",
            "|  AB de Villiers|    2|\n",
            "|    AC Gilchrist|    2|\n",
            "|         M Vijay|    1|\n",
            "|        R Dravid|    1|\n",
            "+----------------+-----+\n",
            "only showing top 20 rows\n",
            "\n"
          ]
        }
      ]
    },
    {
      "cell_type": "code",
      "source": [
        "spark.sql(\n",
        "\"\"\"\n",
        "select player_of_match,count(*) from ipl_matches\n",
        "where neutral_venue = 1\n",
        "group by player_of_match\n",
        "order by count(*) desc \n",
        "\"\"\").show()"
      ],
      "metadata": {
        "colab": {
          "base_uri": "https://localhost:8080/"
        },
        "id": "Ns3xvB8vKXr2",
        "outputId": "29bf45b5-2a87-4c38-ceda-7e98d5e6fec4"
      },
      "execution_count": null,
      "outputs": [
        {
          "output_type": "stream",
          "name": "stdout",
          "text": [
            "+----------------+--------+\n",
            "| player_of_match|count(1)|\n",
            "+----------------+--------+\n",
            "|       JP Duminy|       3|\n",
            "|      GJ Maxwell|       3|\n",
            "|       JH Kallis|       3|\n",
            "|       YK Pathan|       3|\n",
            "|       ML Hayden|       2|\n",
            "|       MK Pandey|       2|\n",
            "|    Yuvraj Singh|       2|\n",
            "|  M Muralitharan|       2|\n",
            "|       RG Sharma|       2|\n",
            "|        SK Raina|       2|\n",
            "|     LRPL Taylor|       2|\n",
            "|DPMD Jayawardene|       2|\n",
            "|  Sandeep Sharma|       2|\n",
            "|   KC Sangakkara|       2|\n",
            "|    SR Tendulkar|       2|\n",
            "|        DR Smith|       2|\n",
            "|  AB de Villiers|       2|\n",
            "|    AC Gilchrist|       2|\n",
            "|        V Sehwag|       1|\n",
            "|        GC Smith|       1|\n",
            "+----------------+--------+\n",
            "only showing top 20 rows\n",
            "\n"
          ]
        }
      ]
    },
    {
      "cell_type": "markdown",
      "source": [
        "### 7. Write a query to get a list of top 10 players with the highest batting average Note: Batting average is the total number of runs scored divided by the number of times they have been out (Make sure to include run outs (on non-striker end) as valid out while calculating average)."
      ],
      "metadata": {
        "id": "_bZS9bDpKXmD"
      }
    },
    {
      "cell_type": "code",
      "source": [
        "player_dismissed=df.groupby('player_dismissed').count()\n",
        "total_runs=df.groupBy('batsman').sum('batsman_runs')\n",
        "ans_7=player_dismissed.join(total_runs, player_dismissed.player_dismissed == total_runs.batsman, 'inner') "
      ],
      "metadata": {
        "id": "kWNjz0CVKXfw"
      },
      "execution_count": null,
      "outputs": []
    },
    {
      "cell_type": "code",
      "source": [
        "anss_7=ans_7.withColumn(\"Batsmen Avg\", col(\"sum(batsman_runs)\")/col(\"count\")).sort('Batsmen Avg',ascending=False)\n",
        "anss_7.select('batsman','Batsmen Avg').show(10)"
      ],
      "metadata": {
        "colab": {
          "base_uri": "https://localhost:8080/"
        },
        "id": "dyiIcRebNDQH",
        "outputId": "46e4e8de-cccf-44cc-b3ea-592f9a3b21cf"
      },
      "execution_count": null,
      "outputs": [
        {
          "output_type": "stream",
          "name": "stdout",
          "text": [
            "+-------------+------------------+\n",
            "|      batsman|       Batsmen Avg|\n",
            "+-------------+------------------+\n",
            "|LA Pomersbach|             152.0|\n",
            "|  PC Valthaty|             126.0|\n",
            "|ST Jayasuriya|              94.0|\n",
            "|      HM Amla|              92.0|\n",
            "|      TM Head|              77.0|\n",
            "|  Niraj Patel|              61.0|\n",
            "|    SS Tiwary|             60.75|\n",
            "|    V Shankar|57.333333333333336|\n",
            "|     KL Rahul|56.111111111111114|\n",
            "|  SW Billings|              53.0|\n",
            "+-------------+------------------+\n",
            "only showing top 10 rows\n",
            "\n"
          ]
        }
      ]
    },
    {
      "cell_type": "markdown",
      "source": [
        "### 8. Write a query to find out who has officiated (as an umpire) the most number of matches in IPL.\n"
      ],
      "metadata": {
        "id": "I_sP-7oaNeOH"
      }
    },
    {
      "cell_type": "code",
      "source": [
        "spark.sql(\n",
        "\"\"\"\n",
        "select umpire, count(*)\n",
        "from ((select umpire1 as umpire from ipl_matches) union all\n",
        "      (select umpire2 from ipl_matches)\n",
        "     ) ipl_matches\n",
        "group by umpire\n",
        "order by count(*) desc ;\n",
        "\"\"\").show()"
      ],
      "metadata": {
        "colab": {
          "base_uri": "https://localhost:8080/"
        },
        "id": "0veKrVC5NlIq",
        "outputId": "c81cb540-e7d4-42a4-853b-7083301425f2"
      },
      "execution_count": null,
      "outputs": [
        {
          "output_type": "stream",
          "name": "stdout",
          "text": [
            "+--------------------+--------+\n",
            "|              umpire|count(1)|\n",
            "+--------------------+--------+\n",
            "|              S Ravi|     121|\n",
            "|     HDPK Dharmasena|      94|\n",
            "|        AK Chaudhary|      87|\n",
            "|       C Shamshuddin|      82|\n",
            "|           M Erasmus|      65|\n",
            "|         Nitin Menon|      57|\n",
            "|           CK Nandan|      57|\n",
            "|          SJA Taufel|      55|\n",
            "|           Asad Rauf|      51|\n",
            "|         VA Kulkarni|      50|\n",
            "|        BNJ Oxenford|      48|\n",
            "|         CB Gaffaney|      47|\n",
            "|           RJ Tucker|      46|\n",
            "|         BR Doctrove|      42|\n",
            "|         RE Koertzen|      41|\n",
            "|           Aleem Dar|      38|\n",
            "|           BF Bowden|      37|\n",
            "|            NJ Llong|      37|\n",
            "|KN Ananthapadmana...|      33|\n",
            "|      RK Illingworth|      31|\n",
            "+--------------------+--------+\n",
            "only showing top 20 rows\n",
            "\n"
          ]
        }
      ]
    },
    {
      "cell_type": "markdown",
      "source": [
        "### 9. Find venue details of the match where V Kohli scored his highest individual runs in IPL.\n"
      ],
      "metadata": {
        "id": "9DMesiZDNk9Y"
      }
    },
    {
      "cell_type": "code",
      "source": [
        "ans_8 = df.filter(df.batsman == 'V Kohli')\n",
        "ans_8.sort('match_id',ascending = False).show(100)"
      ],
      "metadata": {
        "colab": {
          "base_uri": "https://localhost:8080/"
        },
        "id": "e2J4-uswgTY6",
        "outputId": "793b5694-e8b6-46d8-a976-14cef874c603"
      },
      "execution_count": null,
      "outputs": [
        {
          "output_type": "stream",
          "name": "stdout",
          "text": [
            "+--------+------+-----+----+-------+-----------------+------------+------------+----------+----------+------------+---------+--------------+----------------+---------+-----------+--------------------+-------------------+\n",
            "|match_id|inning|overs|ball|batsman|      non_striker|      bowler|batsman_runs|extra_runs|total_runs|non_boundary|is_wicket|dismissal_kind|player_dismissed|  fielder|extras_type|        batting_team|       bowling_team|\n",
            "+--------+------+-----+----+-------+-----------------+------------+------------+----------+----------+------------+---------+--------------+----------------+---------+-----------+--------------------+-------------------+\n",
            "| 1216525|     1|    4|   4|V Kohli|       D Padikkal|   DL Chahar|           0|         0|         0|           0|        0|            NA|              NA|       NA|         NA|Royal Challengers...|Chennai Super Kings|\n",
            "| 1216525|     1|    4|   5|V Kohli|       D Padikkal|   DL Chahar|           1|         0|         1|           0|        0|            NA|              NA|       NA|         NA|Royal Challengers...|Chennai Super Kings|\n",
            "| 1216525|     1|    2|   6|V Kohli|       D Padikkal|   DL Chahar|           2|         0|         2|           0|        0|            NA|              NA|       NA|         NA|Royal Challengers...|Chennai Super Kings|\n",
            "| 1216525|     1|    3|   7|V Kohli|       D Padikkal|   SM Curran|           0|         1|         1|           0|        0|            NA|              NA|       NA|      wides|Royal Challengers...|Chennai Super Kings|\n",
            "| 1216525|     1|   11|   6|V Kohli|Washington Sundar|   RA Jadeja|           0|         0|         0|           0|        0|            NA|              NA|       NA|         NA|Royal Challengers...|Chennai Super Kings|\n",
            "| 1216525|     1|    6|   4|V Kohli|       D Padikkal|    DJ Bravo|           4|         0|         4|           0|        0|            NA|              NA|       NA|         NA|Royal Challengers...|Chennai Super Kings|\n",
            "| 1216525|     1|   12|   2|V Kohli|Washington Sundar|   KV Sharma|           2|         0|         2|           0|        0|            NA|              NA|       NA|         NA|Royal Challengers...|Chennai Super Kings|\n",
            "| 1216525|     1|   12|   3|V Kohli|Washington Sundar|   KV Sharma|           1|         0|         1|           0|        0|            NA|              NA|       NA|         NA|Royal Challengers...|Chennai Super Kings|\n",
            "| 1216525|     1|    6|   5|V Kohli|       D Padikkal|    DJ Bravo|           1|         0|         1|           0|        0|            NA|              NA|       NA|         NA|Royal Challengers...|Chennai Super Kings|\n",
            "| 1216525|     1|   12|   6|V Kohli|Washington Sundar|   KV Sharma|           1|         0|         1|           0|        0|            NA|              NA|       NA|         NA|Royal Challengers...|Chennai Super Kings|\n",
            "| 1216525|     1|   13|   1|V Kohli|Washington Sundar|   RA Jadeja|           0|         0|         0|           0|        0|            NA|              NA|       NA|         NA|Royal Challengers...|Chennai Super Kings|\n",
            "| 1216525|     1|    7|   1|V Kohli|       D Padikkal|   KV Sharma|           1|         0|         1|           0|        0|            NA|              NA|       NA|         NA|Royal Challengers...|Chennai Super Kings|\n",
            "| 1216525|     1|   13|   2|V Kohli|Washington Sundar|   RA Jadeja|           1|         0|         1|           0|        0|            NA|              NA|       NA|         NA|Royal Challengers...|Chennai Super Kings|\n",
            "| 1216525|     1|   13|   5|V Kohli|Washington Sundar|   RA Jadeja|           2|         0|         2|           0|        0|            NA|              NA|       NA|         NA|Royal Challengers...|Chennai Super Kings|\n",
            "| 1216525|     1|    7|   3|V Kohli|       D Padikkal|   KV Sharma|           1|         0|         1|           0|        0|            NA|              NA|       NA|         NA|Royal Challengers...|Chennai Super Kings|\n",
            "| 1216525|     1|   14|   1|V Kohli|Washington Sundar|   SM Curran|           6|         0|         6|           0|        0|            NA|              NA|       NA|         NA|Royal Challengers...|Chennai Super Kings|\n",
            "| 1216525|     1|   13|   6|V Kohli|Washington Sundar|   RA Jadeja|           1|         0|         1|           0|        0|            NA|              NA|       NA|         NA|Royal Challengers...|Chennai Super Kings|\n",
            "| 1216525|     1|   14|   2|V Kohli|Washington Sundar|   SM Curran|           1|         0|         1|           0|        0|            NA|              NA|       NA|         NA|Royal Challengers...|Chennai Super Kings|\n",
            "| 1216525|     1|    3|   3|V Kohli|       D Padikkal|   SM Curran|           1|         0|         1|           0|        0|            NA|              NA|       NA|         NA|Royal Challengers...|Chennai Super Kings|\n",
            "| 1216525|     1|   14|   5|V Kohli|           S Dube|   SM Curran|           1|         0|         1|           0|        0|            NA|              NA|       NA|         NA|Royal Challengers...|Chennai Super Kings|\n",
            "| 1216525|     1|   15|   1|V Kohli|           S Dube|   KV Sharma|           1|         0|         1|           0|        0|            NA|              NA|       NA|         NA|Royal Challengers...|Chennai Super Kings|\n",
            "| 1216525|     1|    8|   3|V Kohli|       D Padikkal|    DJ Bravo|           1|         0|         1|           0|        0|            NA|              NA|       NA|         NA|Royal Challengers...|Chennai Super Kings|\n",
            "| 1216525|     1|   15|   6|V Kohli|           S Dube|   KV Sharma|           1|         0|         1|           0|        0|            NA|              NA|       NA|         NA|Royal Challengers...|Chennai Super Kings|\n",
            "| 1216525|     1|    8|   5|V Kohli|       D Padikkal|    DJ Bravo|           1|         0|         1|           0|        0|            NA|              NA|       NA|         NA|Royal Challengers...|Chennai Super Kings|\n",
            "| 1216525|     1|    3|   8|V Kohli|       D Padikkal|   SM Curran|           1|         0|         1|           0|        0|            NA|              NA|       NA|         NA|Royal Challengers...|Chennai Super Kings|\n",
            "| 1216525|     1|    5|   4|V Kohli|       D Padikkal|   SN Thakur|           4|         0|         4|           0|        0|            NA|              NA|       NA|         NA|Royal Challengers...|Chennai Super Kings|\n",
            "| 1216525|     1|    9|   2|V Kohli|       D Padikkal|   KV Sharma|           1|         0|         1|           0|        0|            NA|              NA|       NA|         NA|Royal Challengers...|Chennai Super Kings|\n",
            "| 1216525|     1|    4|   1|V Kohli|       D Padikkal|   DL Chahar|           1|         0|         1|           0|        0|            NA|              NA|       NA|         NA|Royal Challengers...|Chennai Super Kings|\n",
            "| 1216525|     1|    5|   5|V Kohli|       D Padikkal|   SN Thakur|           1|         0|         1|           0|        0|            NA|              NA|       NA|         NA|Royal Challengers...|Chennai Super Kings|\n",
            "| 1216525|     1|    9|   6|V Kohli|       D Padikkal|   KV Sharma|           1|         0|         1|           0|        0|            NA|              NA|       NA|         NA|Royal Challengers...|Chennai Super Kings|\n",
            "| 1216525|     1|   10|   1|V Kohli|       D Padikkal|   SN Thakur|           1|         0|         1|           0|        0|            NA|              NA|       NA|         NA|Royal Challengers...|Chennai Super Kings|\n",
            "| 1216525|     1|    6|   1|V Kohli|       D Padikkal|    DJ Bravo|           1|         0|         1|           0|        0|            NA|              NA|       NA|         NA|Royal Challengers...|Chennai Super Kings|\n",
            "| 1216525|     1|   10|   3|V Kohli|   AB de Villiers|   SN Thakur|           1|         0|         1|           0|        0|            NA|              NA|       NA|         NA|Royal Challengers...|Chennai Super Kings|\n",
            "| 1216525|     1|   11|   1|V Kohli|Washington Sundar|   RA Jadeja|           1|         0|         1|           0|        0|            NA|              NA|       NA|         NA|Royal Challengers...|Chennai Super Kings|\n",
            "| 1216525|     1|    4|   3|V Kohli|       D Padikkal|   DL Chahar|           0|         0|         0|           0|        0|            NA|              NA|       NA|         NA|Royal Challengers...|Chennai Super Kings|\n",
            "| 1216525|     1|    6|   3|V Kohli|       D Padikkal|    DJ Bravo|           0|         1|         1|           0|        0|            NA|              NA|       NA|      wides|Royal Challengers...|Chennai Super Kings|\n",
            "| 1216525|     1|   11|   5|V Kohli|Washington Sundar|   RA Jadeja|           0|         0|         0|           0|        0|            NA|              NA|       NA|         NA|Royal Challengers...|Chennai Super Kings|\n",
            "| 1216522|     2|    9|   2|V Kohli|       D Padikkal|     S Gopal|           1|         0|         1|           0|        0|            NA|              NA|       NA|         NA|Royal Challengers...|   Rajasthan Royals|\n",
            "| 1216522|     2|   11|   2|V Kohli|       D Padikkal|Kartik Tyagi|           2|         0|         2|           0|        0|            NA|              NA|       NA|         NA|Royal Challengers...|   Rajasthan Royals|\n",
            "| 1216522|     2|    7|   4|V Kohli|       D Padikkal|  JD Unadkat|           1|         0|         1|           0|        0|            NA|              NA|       NA|         NA|Royal Challengers...|   Rajasthan Royals|\n",
            "| 1216522|     2|    9|   4|V Kohli|       D Padikkal|     S Gopal|           2|         0|         2|           0|        0|            NA|              NA|       NA|         NA|Royal Challengers...|   Rajasthan Royals|\n",
            "| 1216522|     2|   10|   3|V Kohli|       D Padikkal|   R Tewatia|           0|         0|         0|           0|        0|            NA|              NA|       NA|         NA|Royal Challengers...|   Rajasthan Royals|\n",
            "| 1216522|     2|   11|   3|V Kohli|       D Padikkal|Kartik Tyagi|           1|         0|         1|           0|        0|            NA|              NA|       NA|         NA|Royal Challengers...|   Rajasthan Royals|\n",
            "| 1216522|     2|   12|   1|V Kohli|       D Padikkal|   R Tewatia|           1|         0|         1|           0|        0|            NA|              NA|       NA|         NA|Royal Challengers...|   Rajasthan Royals|\n",
            "| 1216522|     2|    3|   5|V Kohli|       D Padikkal|     S Gopal|           1|         0|         1|           0|        0|            NA|              NA|       NA|         NA|Royal Challengers...|   Rajasthan Royals|\n",
            "| 1216522|     2|    7|   6|V Kohli|       D Padikkal|  JD Unadkat|           0|         0|         0|           0|        0|            NA|              NA|       NA|         NA|Royal Challengers...|   Rajasthan Royals|\n",
            "| 1216522|     2|    8|   4|V Kohli|       D Padikkal|   R Tewatia|           1|         0|         1|           0|        0|            NA|              NA|       NA|         NA|Royal Challengers...|   Rajasthan Royals|\n",
            "| 1216522|     2|    9|   5|V Kohli|       D Padikkal|     S Gopal|           2|         0|         2|           0|        0|            NA|              NA|       NA|         NA|Royal Challengers...|   Rajasthan Royals|\n",
            "| 1216522|     2|   10|   4|V Kohli|       D Padikkal|   R Tewatia|           1|         0|         1|           0|        0|            NA|              NA|       NA|         NA|Royal Challengers...|   Rajasthan Royals|\n",
            "| 1216522|     2|   10|   6|V Kohli|       D Padikkal|   R Tewatia|           0|         1|         1|           0|        0|            NA|              NA|       NA|      wides|Royal Challengers...|   Rajasthan Royals|\n",
            "| 1216522|     2|   11|   6|V Kohli|       D Padikkal|Kartik Tyagi|           1|         0|         1|           0|        0|            NA|              NA|       NA|         NA|Royal Challengers...|   Rajasthan Royals|\n",
            "| 1216522|     2|   12|   3|V Kohli|       D Padikkal|   R Tewatia|           6|         0|         6|           0|        0|            NA|              NA|       NA|         NA|Royal Challengers...|   Rajasthan Royals|\n",
            "| 1216522|     2|   12|   4|V Kohli|       D Padikkal|   R Tewatia|           0|         1|         1|           0|        0|            NA|              NA|       NA|      wides|Royal Challengers...|   Rajasthan Royals|\n",
            "| 1216522|     2|    4|   1|V Kohli|       D Padikkal|Kartik Tyagi|           1|         0|         1|           0|        0|            NA|              NA|       NA|         NA|Royal Challengers...|   Rajasthan Royals|\n",
            "| 1216522|     2|    4|   7|V Kohli|       D Padikkal|Kartik Tyagi|           1|         0|         1|           0|        0|            NA|              NA|       NA|         NA|Royal Challengers...|   Rajasthan Royals|\n",
            "| 1216522|     2|    5|   3|V Kohli|       D Padikkal|  JD Unadkat|           0|         0|         0|           0|        0|            NA|              NA|       NA|         NA|Royal Challengers...|   Rajasthan Royals|\n",
            "| 1216522|     2|    6|   5|V Kohli|       D Padikkal|   R Tewatia|           1|         0|         1|           0|        0|            NA|              NA|       NA|         NA|Royal Challengers...|   Rajasthan Royals|\n",
            "| 1216522|     2|    6|   2|V Kohli|       D Padikkal|   R Tewatia|           0|         0|         0|           0|        0|            NA|              NA|       NA|         NA|Royal Challengers...|   Rajasthan Royals|\n",
            "| 1216522|     2|    8|   1|V Kohli|       D Padikkal|   R Tewatia|           0|         0|         0|           0|        0|            NA|              NA|       NA|         NA|Royal Challengers...|   Rajasthan Royals|\n",
            "| 1216522|     2|    9|   6|V Kohli|       D Padikkal|     S Gopal|           6|         0|         6|           0|        0|            NA|              NA|       NA|         NA|Royal Challengers...|   Rajasthan Royals|\n",
            "| 1216522|     2|   10|   7|V Kohli|       D Padikkal|   R Tewatia|           1|         0|         1|           0|        0|            NA|              NA|       NA|         NA|Royal Challengers...|   Rajasthan Royals|\n",
            "| 1216522|     2|   12|   5|V Kohli|       D Padikkal|   R Tewatia|           1|         0|         1|           0|        0|            NA|              NA|       NA|         NA|Royal Challengers...|   Rajasthan Royals|\n",
            "| 1216522|     2|   11|   1|V Kohli|       D Padikkal|Kartik Tyagi|           2|         0|         2|           0|        0|            NA|              NA|       NA|         NA|Royal Challengers...|   Rajasthan Royals|\n",
            "| 1216522|     2|   13|   1|V Kohli|   AB de Villiers|Kartik Tyagi|           0|         0|         0|           0|        1|        caught|         V Kohli|R Tewatia|         NA|Royal Challengers...|   Rajasthan Royals|\n",
            "| 1216522|     2|    5|   1|V Kohli|       D Padikkal|  JD Unadkat|           2|         0|         2|           0|        0|            NA|              NA|       NA|         NA|Royal Challengers...|   Rajasthan Royals|\n",
            "| 1216522|     2|    5|   2|V Kohli|       D Padikkal|  JD Unadkat|           0|         0|         0|           0|        0|            NA|              NA|       NA|         NA|Royal Challengers...|   Rajasthan Royals|\n",
            "| 1216522|     2|    5|   4|V Kohli|       D Padikkal|  JD Unadkat|           4|         0|         4|           0|        0|            NA|              NA|       NA|         NA|Royal Challengers...|   Rajasthan Royals|\n",
            "| 1216522|     2|    5|   5|V Kohli|       D Padikkal|  JD Unadkat|           0|         0|         0|           0|        0|            NA|              NA|       NA|         NA|Royal Challengers...|   Rajasthan Royals|\n",
            "| 1216522|     2|    5|   6|V Kohli|       D Padikkal|  JD Unadkat|           2|         0|         2|           0|        0|            NA|              NA|       NA|         NA|Royal Challengers...|   Rajasthan Royals|\n",
            "| 1216522|     2|    6|   3|V Kohli|       D Padikkal|   R Tewatia|           1|         0|         1|           0|        0|            NA|              NA|       NA|         NA|Royal Challengers...|   Rajasthan Royals|\n",
            "| 1216522|     2|    7|   1|V Kohli|       D Padikkal|  JD Unadkat|           1|         0|         1|           0|        0|            NA|              NA|       NA|         NA|Royal Challengers...|   Rajasthan Royals|\n",
            "| 1216519|     2|    4|   5|V Kohli|   AB de Villiers|    HV Patel|           1|         0|         1|           0|        0|            NA|              NA|       NA|         NA|Royal Challengers...|     Delhi Capitals|\n",
            "| 1216519|     2|   13|   2|V Kohli|Washington Sundar|    K Rabada|           1|         0|         1|           0|        0|            NA|              NA|       NA|         NA|Royal Challengers...|     Delhi Capitals|\n",
            "| 1216519|     2|    4|   3|V Kohli|   AB de Villiers|    HV Patel|           1|         0|         1|           0|        0|            NA|              NA|       NA|         NA|Royal Challengers...|     Delhi Capitals|\n",
            "| 1216519|     2|   13|   4|V Kohli|Washington Sundar|    K Rabada|           0|         0|         0|           0|        1|        caught|         V Kohli|  RR Pant|         NA|Royal Challengers...|     Delhi Capitals|\n",
            "| 1216519|     2|    3|   4|V Kohli|         AJ Finch|    AR Patel|           0|         0|         0|           0|        0|            NA|              NA|       NA|         NA|Royal Challengers...|     Delhi Capitals|\n",
            "| 1216519|     2|    8|   1|V Kohli|           MM Ali|    R Ashwin|           0|         0|         0|           0|        0|            NA|              NA|       NA|         NA|Royal Challengers...|     Delhi Capitals|\n",
            "| 1216519|     2|    8|   7|V Kohli|           MM Ali|    R Ashwin|           2|         0|         2|           0|        0|            NA|              NA|       NA|         NA|Royal Challengers...|     Delhi Capitals|\n",
            "| 1216519|     2|    9|   5|V Kohli|           MM Ali|    AR Patel|           0|         0|         0|           0|        0|            NA|              NA|       NA|         NA|Royal Challengers...|     Delhi Capitals|\n",
            "| 1216519|     2|    7|   3|V Kohli|           MM Ali|    AR Patel|           1|         0|         1|           0|        0|            NA|              NA|       NA|         NA|Royal Challengers...|     Delhi Capitals|\n",
            "| 1216519|     2|   12|   7|V Kohli|Washington Sundar|    HV Patel|           1|         0|         1|           0|        0|            NA|              NA|       NA|         NA|Royal Challengers...|     Delhi Capitals|\n",
            "| 1216519|     2|    3|   1|V Kohli|         AJ Finch|    AR Patel|           4|         0|         4|           0|        0|            NA|              NA|       NA|         NA|Royal Challengers...|     Delhi Capitals|\n",
            "| 1216519|     2|    3|   5|V Kohli|         AJ Finch|    AR Patel|           1|         0|         1|           0|        0|            NA|              NA|       NA|         NA|Royal Challengers...|     Delhi Capitals|\n",
            "| 1216519|     2|    7|   1|V Kohli|           MM Ali|    AR Patel|           0|         0|         0|           0|        0|            NA|              NA|       NA|         NA|Royal Challengers...|     Delhi Capitals|\n",
            "| 1216519|     2|   11|   3|V Kohli|           MM Ali|    AR Patel|           1|         0|         1|           0|        0|            NA|              NA|       NA|         NA|Royal Challengers...|     Delhi Capitals|\n",
            "| 1216519|     2|    4|   1|V Kohli|   AB de Villiers|    HV Patel|           4|         0|         4|           0|        0|            NA|              NA|       NA|         NA|Royal Challengers...|     Delhi Capitals|\n",
            "| 1216519|     2|    9|   6|V Kohli|           MM Ali|    AR Patel|           1|         0|         1|           0|        0|            NA|              NA|       NA|         NA|Royal Challengers...|     Delhi Capitals|\n",
            "| 1216519|     2|    5|   1|V Kohli|   AB de Villiers|    A Nortje|           1|         0|         1|           0|        0|            NA|              NA|       NA|         NA|Royal Challengers...|     Delhi Capitals|\n",
            "| 1216519|     2|    7|   6|V Kohli|           MM Ali|    AR Patel|           1|         0|         1|           0|        0|            NA|              NA|       NA|         NA|Royal Challengers...|     Delhi Capitals|\n",
            "| 1216519|     2|    3|   2|V Kohli|         AJ Finch|    AR Patel|           1|         0|         1|           0|        0|            NA|              NA|       NA|         NA|Royal Challengers...|     Delhi Capitals|\n",
            "| 1216519|     2|   10|   1|V Kohli|           MM Ali|    HV Patel|           1|         0|         1|           0|        0|            NA|              NA|       NA|         NA|Royal Challengers...|     Delhi Capitals|\n",
            "| 1216519|     2|   10|   4|V Kohli|           MM Ali|    HV Patel|           0|         0|         0|           0|        0|            NA|              NA|       NA|         NA|Royal Challengers...|     Delhi Capitals|\n",
            "| 1216519|     2|    7|   2|V Kohli|           MM Ali|    AR Patel|           0|         0|         0|           0|        0|            NA|              NA|       NA|         NA|Royal Challengers...|     Delhi Capitals|\n",
            "| 1216519|     2|    7|   5|V Kohli|           MM Ali|    AR Patel|           2|         0|         2|           0|        0|            NA|              NA|       NA|         NA|Royal Challengers...|     Delhi Capitals|\n",
            "| 1216519|     2|   12|   3|V Kohli|Washington Sundar|    HV Patel|           2|         0|         2|           0|        0|            NA|              NA|       NA|         NA|Royal Challengers...|     Delhi Capitals|\n",
            "| 1216519|     2|    4|   2|V Kohli|   AB de Villiers|    HV Patel|           0|         0|         0|           0|        0|            NA|              NA|       NA|         NA|Royal Challengers...|     Delhi Capitals|\n",
            "| 1216519|     2|   10|   5|V Kohli|           MM Ali|    HV Patel|           2|         0|         2|           0|        0|            NA|              NA|       NA|         NA|Royal Challengers...|     Delhi Capitals|\n",
            "| 1216519|     2|    8|   2|V Kohli|           MM Ali|    R Ashwin|           1|         0|         1|           0|        0|            NA|              NA|       NA|         NA|Royal Challengers...|     Delhi Capitals|\n",
            "| 1216519|     2|   10|   6|V Kohli|           MM Ali|    HV Patel|           1|         0|         1|           0|        0|            NA|              NA|       NA|         NA|Royal Challengers...|     Delhi Capitals|\n",
            "| 1216519|     2|   12|   1|V Kohli|Washington Sundar|    HV Patel|           0|         1|         1|           0|        0|            NA|              NA|       NA|      wides|Royal Challengers...|     Delhi Capitals|\n",
            "+--------+------+-----+----+-------+-----------------+------------+------------+----------+----------+------------+---------+--------------+----------------+---------+-----------+--------------------+-------------------+\n",
            "only showing top 100 rows\n",
            "\n"
          ]
        }
      ]
    },
    {
      "cell_type": "code",
      "source": [
        "anss_8 = ans_8.groupby(['match_id']).sum('batsman_runs').sort('sum(batsman_runs)',ascending=False)\n",
        "anss_8.show()"
      ],
      "metadata": {
        "colab": {
          "base_uri": "https://localhost:8080/"
        },
        "id": "CLJk9bg4xQgP",
        "outputId": "a317dc3b-37e7-45c5-f4f3-d47109c3603e"
      },
      "execution_count": null,
      "outputs": [
        {
          "output_type": "stream",
          "name": "stdout",
          "text": [
            "+--------+-----------------+\n",
            "|match_id|sum(batsman_runs)|\n",
            "+--------+-----------------+\n",
            "| 1216514|               72|\n",
            "|  829749|               62|\n",
            "| 1082646|               58|\n",
            "|  598012|               58|\n",
            "|  829745|               51|\n",
            "|  598004|               46|\n",
            "| 1216525|               44|\n",
            "| 1216519|               43|\n",
            "| 1216522|               43|\n",
            "|  598008|               35|\n",
            "|  829757|               35|\n",
            "|  829771|               34|\n",
            "| 1136563|               31|\n",
            "| 1216505|               29|\n",
            "|  419157|               27|\n",
            "|  501200|               23|\n",
            "| 1136571|               22|\n",
            "|  336016|               21|\n",
            "|  829737|               18|\n",
            "|  597999|               18|\n",
            "+--------+-----------------+\n",
            "only showing top 20 rows\n",
            "\n"
          ]
        }
      ]
    },
    {
      "cell_type": "code",
      "source": [
        "ansss_8 = df2.join(anss_8,on='match_id')\n",
        "anssss_8 = df3.join(ansss_8,on = 'venue_id')\n",
        "anssss_8 = anssss_8.withColumnRenamed(\"sum(batsman_runs)\",\"V_Kohli(highest runs)\")\n",
        "anssss_8.select('venue_id','venue','V_Kohli(highest runs)').sort('V_Kohli(highest runs)',ascending=False).show(1)"
      ],
      "metadata": {
        "colab": {
          "base_uri": "https://localhost:8080/"
        },
        "id": "x-QrUXBOMGIB",
        "outputId": "8aa37610-8f94-4c61-8517-26a90ff281f3"
      },
      "execution_count": null,
      "outputs": [
        {
          "output_type": "stream",
          "name": "stdout",
          "text": [
            "+--------+--------------------+---------------------+\n",
            "|venue_id|               venue|V_Kohli(highest runs)|\n",
            "+--------+--------------------+---------------------+\n",
            "|      38|Sheikh Zayed Stadium|                   72|\n",
            "+--------+--------------------+---------------------+\n",
            "only showing top 1 row\n",
            "\n"
          ]
        }
      ]
    },
    {
      "cell_type": "code",
      "source": [
        "ans = df3.join(eli_ans,on='venue_id')\n",
        "f_ans = ans.sort('count',ascending=False)\n",
        "f_ans.show(3)"
      ],
      "metadata": {
        "colab": {
          "base_uri": "https://localhost:8080/"
        },
        "id": "LKPssACuMVy-",
        "outputId": "161c195b-bff5-42fd-b1ee-0e8619cd7448"
      },
      "execution_count": null,
      "outputs": [
        {
          "output_type": "stream",
          "name": "stdout",
          "text": [
            "+--------+--------------------+---------+-----+\n",
            "|venue_id|               venue|     city|count|\n",
            "+--------+--------------------+---------+-----+\n",
            "|      25|Dubai Internation...|    Dubai|    3|\n",
            "|      38|Sheikh Zayed Stadium|Abu Dhabi|    2|\n",
            "|      27|    Feroz Shah Kotla|    Delhi|    1|\n",
            "+--------+--------------------+---------+-----+\n",
            "only showing top 3 rows\n",
            "\n"
          ]
        }
      ]
    },
    {
      "cell_type": "code",
      "source": [
        "eli = df2.filter(df2.eliminator =='Y')\n",
        "eli_ans = eli.groupBy('venue_id').count().sort('count',ascending=False)\n",
        "eli_ans.show()"
      ],
      "metadata": {
        "colab": {
          "base_uri": "https://localhost:8080/"
        },
        "outputId": "184ed392-cdc9-4e26-efe5-bcb536634fef",
        "id": "DjWuhjvAMVy8"
      },
      "execution_count": null,
      "outputs": [
        {
          "output_type": "stream",
          "name": "stdout",
          "text": [
            "+--------+-----+\n",
            "|venue_id|count|\n",
            "+--------+-----+\n",
            "|      25|    3|\n",
            "|      38|    2|\n",
            "|      22|    1|\n",
            "|      27|    1|\n",
            "|      35|    1|\n",
            "|      37|    1|\n",
            "|       4|    1|\n",
            "|      29|    1|\n",
            "|      33|    1|\n",
            "|      14|    1|\n",
            "+--------+-----+\n",
            "\n"
          ]
        }
      ]
    },
    {
      "cell_type": "markdown",
      "source": [
        "### 10. Creative Case study:\n",
        "### Please analyze how winning/losing tosses can impact a match and it's result? (Marks for Visualization also)"
      ],
      "metadata": {
        "id": "5S8ytiwa3Mm_"
      }
    },
    {
      "cell_type": "code",
      "source": [
        "team = ['Sunrisers Hyderabad','Chennai Super Kings','Rising Pune Supergiant','Deccan Chargers','Kochi Tuskers Kerala','Rajasthan Royals','Gujarat Lions','Royal Challengers Bangalore','Kolkata Knight Riders','Rising Pune Supergiants','Kings XI Punjab','Pune Warriors','Delhi Daredevils','Delhi Capitals','Mumbai Indians']\n",
        "team"
      ],
      "metadata": {
        "colab": {
          "base_uri": "https://localhost:8080/"
        },
        "id": "g_4pjpZAyDx2",
        "outputId": "886ed3a4-0e1b-4480-aa36-ce6f4a9ae398"
      },
      "execution_count": null,
      "outputs": [
        {
          "output_type": "execute_result",
          "data": {
            "text/plain": [
              "['Sunrisers Hyderabad',\n",
              " 'Chennai Super Kings',\n",
              " 'Rising Pune Supergiant',\n",
              " 'Deccan Chargers',\n",
              " 'Kochi Tuskers Kerala',\n",
              " 'Rajasthan Royals',\n",
              " 'Gujarat Lions',\n",
              " 'Royal Challengers Bangalore',\n",
              " 'Kolkata Knight Riders',\n",
              " 'Rising Pune Supergiants',\n",
              " 'Kings XI Punjab',\n",
              " 'Pune Warriors',\n",
              " 'Delhi Daredevils',\n",
              " 'Delhi Capitals',\n",
              " 'Mumbai Indians']"
            ]
          },
          "metadata": {},
          "execution_count": 51
        }
      ]
    },
    {
      "cell_type": "code",
      "source": [
        "win_toss_win_match = []\n",
        "win_toss_lost_match = []"
      ],
      "metadata": {
        "id": "HxgLFT3kvCx1"
      },
      "execution_count": null,
      "outputs": []
    },
    {
      "cell_type": "code",
      "source": [
        "def win_toss_match(df,x):\n",
        "  y1 = df.filter((df.toss_winner == x) & (df.winner == x))\n",
        "  return y1.count()"
      ],
      "metadata": {
        "id": "60k_VhDt48DX"
      },
      "execution_count": null,
      "outputs": []
    },
    {
      "cell_type": "code",
      "source": [
        "def lost_toss_match(df,x):\n",
        "  y2 = df.filter((df.toss_winner == x) & (df.winner != x))\n",
        "  return y2.count()"
      ],
      "metadata": {
        "id": "m2HrDnjY4_3A"
      },
      "execution_count": null,
      "outputs": []
    },
    {
      "cell_type": "code",
      "source": [
        "for i in range(0,len(team)):\n",
        "  a = win_toss_match(df2,team[i])\n",
        "  b = lost_toss_match(df2,team[i])\n",
        "  win_toss_win_match.append(a)\n",
        "  win_toss_lost_match.append(b)"
      ],
      "metadata": {
        "id": "BvEV_zjXzGO_"
      },
      "execution_count": null,
      "outputs": []
    },
    {
      "cell_type": "code",
      "source": [
        "win_toss_win_match"
      ],
      "metadata": {
        "colab": {
          "base_uri": "https://localhost:8080/"
        },
        "id": "QAoM6ki4zy5-",
        "outputId": "879b5951-8b1d-40ee-f3c0-11306422e4cb"
      },
      "execution_count": null,
      "outputs": [
        {
          "output_type": "execute_result",
          "data": {
            "text/plain": [
              "[29, 61, 5, 19, 4, 44, 10, 43, 55, 3, 36, 3, 35, 10, 61]"
            ]
          },
          "metadata": {},
          "execution_count": 56
        }
      ]
    },
    {
      "cell_type": "code",
      "source": [
        "win_toss_lost_match"
      ],
      "metadata": {
        "colab": {
          "base_uri": "https://localhost:8080/"
        },
        "id": "hufmbzm_z3Bz",
        "outputId": "7a483c4b-26f9-453c-d4da-a0122dabb3f8"
      },
      "execution_count": null,
      "outputs": [
        {
          "output_type": "execute_result",
          "data": {
            "text/plain": [
              "[28, 36, 1, 24, 4, 43, 5, 44, 43, 4, 49, 17, 45, 10, 45]"
            ]
          },
          "metadata": {},
          "execution_count": 57
        }
      ]
    },
    {
      "cell_type": "code",
      "source": [
        "import pandas as pd\n",
        "result = pd.DataFrame(list(zip(team,win_toss_win_match,win_toss_lost_match)),columns = ['Teams','win_toss_win_match','win_toss_lost_match'])\n",
        "result"
      ],
      "metadata": {
        "colab": {
          "base_uri": "https://localhost:8080/",
          "height": 520
        },
        "id": "zM_nYCpRz8iK",
        "outputId": "002775a4-fb73-4a10-f290-2d04656c6e99"
      },
      "execution_count": null,
      "outputs": [
        {
          "output_type": "execute_result",
          "data": {
            "text/html": [
              "\n",
              "  <div id=\"df-fc7cfe8b-6bf2-47ce-9407-b92e4b64547f\">\n",
              "    <div class=\"colab-df-container\">\n",
              "      <div>\n",
              "<style scoped>\n",
              "    .dataframe tbody tr th:only-of-type {\n",
              "        vertical-align: middle;\n",
              "    }\n",
              "\n",
              "    .dataframe tbody tr th {\n",
              "        vertical-align: top;\n",
              "    }\n",
              "\n",
              "    .dataframe thead th {\n",
              "        text-align: right;\n",
              "    }\n",
              "</style>\n",
              "<table border=\"1\" class=\"dataframe\">\n",
              "  <thead>\n",
              "    <tr style=\"text-align: right;\">\n",
              "      <th></th>\n",
              "      <th>Teams</th>\n",
              "      <th>win_toss_win_match</th>\n",
              "      <th>win_toss_lost_match</th>\n",
              "    </tr>\n",
              "  </thead>\n",
              "  <tbody>\n",
              "    <tr>\n",
              "      <th>0</th>\n",
              "      <td>Sunrisers Hyderabad</td>\n",
              "      <td>29</td>\n",
              "      <td>28</td>\n",
              "    </tr>\n",
              "    <tr>\n",
              "      <th>1</th>\n",
              "      <td>Chennai Super Kings</td>\n",
              "      <td>61</td>\n",
              "      <td>36</td>\n",
              "    </tr>\n",
              "    <tr>\n",
              "      <th>2</th>\n",
              "      <td>Rising Pune Supergiant</td>\n",
              "      <td>5</td>\n",
              "      <td>1</td>\n",
              "    </tr>\n",
              "    <tr>\n",
              "      <th>3</th>\n",
              "      <td>Deccan Chargers</td>\n",
              "      <td>19</td>\n",
              "      <td>24</td>\n",
              "    </tr>\n",
              "    <tr>\n",
              "      <th>4</th>\n",
              "      <td>Kochi Tuskers Kerala</td>\n",
              "      <td>4</td>\n",
              "      <td>4</td>\n",
              "    </tr>\n",
              "    <tr>\n",
              "      <th>5</th>\n",
              "      <td>Rajasthan Royals</td>\n",
              "      <td>44</td>\n",
              "      <td>43</td>\n",
              "    </tr>\n",
              "    <tr>\n",
              "      <th>6</th>\n",
              "      <td>Gujarat Lions</td>\n",
              "      <td>10</td>\n",
              "      <td>5</td>\n",
              "    </tr>\n",
              "    <tr>\n",
              "      <th>7</th>\n",
              "      <td>Royal Challengers Bangalore</td>\n",
              "      <td>43</td>\n",
              "      <td>44</td>\n",
              "    </tr>\n",
              "    <tr>\n",
              "      <th>8</th>\n",
              "      <td>Kolkata Knight Riders</td>\n",
              "      <td>55</td>\n",
              "      <td>43</td>\n",
              "    </tr>\n",
              "    <tr>\n",
              "      <th>9</th>\n",
              "      <td>Rising Pune Supergiants</td>\n",
              "      <td>3</td>\n",
              "      <td>4</td>\n",
              "    </tr>\n",
              "    <tr>\n",
              "      <th>10</th>\n",
              "      <td>Kings XI Punjab</td>\n",
              "      <td>36</td>\n",
              "      <td>49</td>\n",
              "    </tr>\n",
              "    <tr>\n",
              "      <th>11</th>\n",
              "      <td>Pune Warriors</td>\n",
              "      <td>3</td>\n",
              "      <td>17</td>\n",
              "    </tr>\n",
              "    <tr>\n",
              "      <th>12</th>\n",
              "      <td>Delhi Daredevils</td>\n",
              "      <td>35</td>\n",
              "      <td>45</td>\n",
              "    </tr>\n",
              "    <tr>\n",
              "      <th>13</th>\n",
              "      <td>Delhi Capitals</td>\n",
              "      <td>10</td>\n",
              "      <td>10</td>\n",
              "    </tr>\n",
              "    <tr>\n",
              "      <th>14</th>\n",
              "      <td>Mumbai Indians</td>\n",
              "      <td>61</td>\n",
              "      <td>45</td>\n",
              "    </tr>\n",
              "  </tbody>\n",
              "</table>\n",
              "</div>\n",
              "      <button class=\"colab-df-convert\" onclick=\"convertToInteractive('df-fc7cfe8b-6bf2-47ce-9407-b92e4b64547f')\"\n",
              "              title=\"Convert this dataframe to an interactive table.\"\n",
              "              style=\"display:none;\">\n",
              "        \n",
              "  <svg xmlns=\"http://www.w3.org/2000/svg\" height=\"24px\"viewBox=\"0 0 24 24\"\n",
              "       width=\"24px\">\n",
              "    <path d=\"M0 0h24v24H0V0z\" fill=\"none\"/>\n",
              "    <path d=\"M18.56 5.44l.94 2.06.94-2.06 2.06-.94-2.06-.94-.94-2.06-.94 2.06-2.06.94zm-11 1L8.5 8.5l.94-2.06 2.06-.94-2.06-.94L8.5 2.5l-.94 2.06-2.06.94zm10 10l.94 2.06.94-2.06 2.06-.94-2.06-.94-.94-2.06-.94 2.06-2.06.94z\"/><path d=\"M17.41 7.96l-1.37-1.37c-.4-.4-.92-.59-1.43-.59-.52 0-1.04.2-1.43.59L10.3 9.45l-7.72 7.72c-.78.78-.78 2.05 0 2.83L4 21.41c.39.39.9.59 1.41.59.51 0 1.02-.2 1.41-.59l7.78-7.78 2.81-2.81c.8-.78.8-2.07 0-2.86zM5.41 20L4 18.59l7.72-7.72 1.47 1.35L5.41 20z\"/>\n",
              "  </svg>\n",
              "      </button>\n",
              "      \n",
              "  <style>\n",
              "    .colab-df-container {\n",
              "      display:flex;\n",
              "      flex-wrap:wrap;\n",
              "      gap: 12px;\n",
              "    }\n",
              "\n",
              "    .colab-df-convert {\n",
              "      background-color: #E8F0FE;\n",
              "      border: none;\n",
              "      border-radius: 50%;\n",
              "      cursor: pointer;\n",
              "      display: none;\n",
              "      fill: #1967D2;\n",
              "      height: 32px;\n",
              "      padding: 0 0 0 0;\n",
              "      width: 32px;\n",
              "    }\n",
              "\n",
              "    .colab-df-convert:hover {\n",
              "      background-color: #E2EBFA;\n",
              "      box-shadow: 0px 1px 2px rgba(60, 64, 67, 0.3), 0px 1px 3px 1px rgba(60, 64, 67, 0.15);\n",
              "      fill: #174EA6;\n",
              "    }\n",
              "\n",
              "    [theme=dark] .colab-df-convert {\n",
              "      background-color: #3B4455;\n",
              "      fill: #D2E3FC;\n",
              "    }\n",
              "\n",
              "    [theme=dark] .colab-df-convert:hover {\n",
              "      background-color: #434B5C;\n",
              "      box-shadow: 0px 1px 3px 1px rgba(0, 0, 0, 0.15);\n",
              "      filter: drop-shadow(0px 1px 2px rgba(0, 0, 0, 0.3));\n",
              "      fill: #FFFFFF;\n",
              "    }\n",
              "  </style>\n",
              "\n",
              "      <script>\n",
              "        const buttonEl =\n",
              "          document.querySelector('#df-fc7cfe8b-6bf2-47ce-9407-b92e4b64547f button.colab-df-convert');\n",
              "        buttonEl.style.display =\n",
              "          google.colab.kernel.accessAllowed ? 'block' : 'none';\n",
              "\n",
              "        async function convertToInteractive(key) {\n",
              "          const element = document.querySelector('#df-fc7cfe8b-6bf2-47ce-9407-b92e4b64547f');\n",
              "          const dataTable =\n",
              "            await google.colab.kernel.invokeFunction('convertToInteractive',\n",
              "                                                     [key], {});\n",
              "          if (!dataTable) return;\n",
              "\n",
              "          const docLinkHtml = 'Like what you see? Visit the ' +\n",
              "            '<a target=\"_blank\" href=https://colab.research.google.com/notebooks/data_table.ipynb>data table notebook</a>'\n",
              "            + ' to learn more about interactive tables.';\n",
              "          element.innerHTML = '';\n",
              "          dataTable['output_type'] = 'display_data';\n",
              "          await google.colab.output.renderOutput(dataTable, element);\n",
              "          const docLink = document.createElement('div');\n",
              "          docLink.innerHTML = docLinkHtml;\n",
              "          element.appendChild(docLink);\n",
              "        }\n",
              "      </script>\n",
              "    </div>\n",
              "  </div>\n",
              "  "
            ],
            "text/plain": [
              "                          Teams  win_toss_win_match  win_toss_lost_match\n",
              "0           Sunrisers Hyderabad                  29                   28\n",
              "1           Chennai Super Kings                  61                   36\n",
              "2        Rising Pune Supergiant                   5                    1\n",
              "3               Deccan Chargers                  19                   24\n",
              "4          Kochi Tuskers Kerala                   4                    4\n",
              "5              Rajasthan Royals                  44                   43\n",
              "6                 Gujarat Lions                  10                    5\n",
              "7   Royal Challengers Bangalore                  43                   44\n",
              "8         Kolkata Knight Riders                  55                   43\n",
              "9       Rising Pune Supergiants                   3                    4\n",
              "10              Kings XI Punjab                  36                   49\n",
              "11                Pune Warriors                   3                   17\n",
              "12             Delhi Daredevils                  35                   45\n",
              "13               Delhi Capitals                  10                   10\n",
              "14               Mumbai Indians                  61                   45"
            ]
          },
          "metadata": {},
          "execution_count": 58
        }
      ]
    },
    {
      "cell_type": "code",
      "source": [
        "# importing pandas library\n",
        "import pandas as pd\n",
        "# import matplotlib library\n",
        "import matplotlib.pyplot as plt\n",
        "\n",
        "\n",
        "result.plot(x=\"Teams\", y=[\"win_toss_win_match\", \"win_toss_lost_match\"], kind=\"bar\", figsize=(15, 15))\n"
      ],
      "metadata": {
        "colab": {
          "base_uri": "https://localhost:8080/",
          "height": 1000
        },
        "id": "fkvOm7Aq1T6q",
        "outputId": "e82d2ea4-035c-4a05-ac96-5384c64535f3"
      },
      "execution_count": null,
      "outputs": [
        {
          "output_type": "execute_result",
          "data": {
            "text/plain": [
              "<matplotlib.axes._subplots.AxesSubplot at 0x7fa89a3d7bd0>"
            ]
          },
          "metadata": {},
          "execution_count": 59
        },
        {
          "output_type": "display_data",
          "data": {
            "image/png": "[encoded data removed]",
            "text/plain": [
              "<Figure size 1080x1080 with 1 Axes>"
            ]
          },
          "metadata": {
            "needs_background": "light"
          }
        }
      ]
    },
    {
      "cell_type": "markdown",
      "source": [
        "## NOTE:- So in total `7 teams` are such which have won more number of matches after winning the toss while `2 teams` have a equal score of wins having no impact of toss in there performances while the remaining `6 teams` have won there most matches after losing the toss"
      ],
      "metadata": {
        "id": "muHq9wR95q4d"
      }
    },
    {
      "cell_type": "markdown",
      "source": [
        "## Note:- There is a bit `error` in the dataset having typo in classifying team Rising Pune SuperGiants as the dataset consist `Rising Pune SuperGiants` and `Rising Pune SuperGiant`"
      ],
      "metadata": {
        "id": "LaUCxzbU6ac3"
      }
    },
    {
      "cell_type": "markdown",
      "source": [
        "# SECTION 3"
      ],
      "metadata": {
        "id": "7DSpqEMA61Fw"
      }
    },
    {
      "cell_type": "markdown",
      "source": [
        "## 1. Create a database (use any relational DB preferably SQLite) and load data from the dataset (Section 1) into db.\n",
        "2. Create a Class Database. Class will need to have\n",
        "1. Constructor to initialize dB connection and other variables\n",
        "2. Methods implemented to return result-set for each query in Section 2, result-set should\n",
        "be returned as a json/dict object.\n",
        "3. Exception handling.\n",
        "4. get_status method to ping database connectivity"
      ],
      "metadata": {
        "id": "6bqavor7pvHP"
      }
    },
    {
      "cell_type": "code",
      "source": [
        "import json\n",
        "import sqlite3\n",
        "class Database(object):\n",
        "\n",
        "    \"\"\"\n",
        "        SQLite3  Data query helper classes \n",
        "    \"\"\"\n",
        "\n",
        "    def __init__(self, filename):\n",
        "        \"\"\"\n",
        "             A constructor \n",
        "             parameter : filename  for SQLite3  Database file name \n",
        "        \"\"\"\n",
        "        self.file_name = filename\n",
        "\n",
        "    def open(self):\n",
        "        \"\"\"\n",
        "             Open the database and set the cursor \n",
        "        \"\"\"\n",
        "        self.connection = sqlite3.connect(self.file_name)\n",
        "        self.cursor = self.connection.cursor()\n",
        "\n",
        "    def add(self,df,x):\n",
        "\n",
        "      df.to_sql(x,self.connection,if_exists = 'replace',index=False)\n",
        "\n",
        "\n",
        "    def close(self):\n",
        "        \"\"\"\n",
        "             Close the database, note that if you do not explicitly call this method, \n",
        "             It is also attempted when the class is reclaimed \n",
        "        \"\"\"\n",
        "        if hasattr(self, \"connection\") and self.connection:\n",
        "            self.connection.close()\n",
        "\n",
        "    def __del__(self):\n",
        "        \"\"\"\n",
        "             Destruct method, do some cleanup \n",
        "        \"\"\"\n",
        "        self.close()\n",
        "\n",
        "    def commit(self):\n",
        "        \"\"\"\n",
        "             Commit the transaction \n",
        "            SELECT Statement does not require this action, by default execute methods \n",
        "            commit_at_once Set to True It implicitly calls this method, \n",
        "             Otherwise you need to show that this method is called. \n",
        "        \"\"\"\n",
        "        self.connection.commit()\n",
        "\n",
        "    def execute(self, sql = None, commit_at_once = True):\n",
        "        \"\"\"\n",
        "             perform SQL statements \n",
        "             parameter :\n",
        "                sql   To perform the SQL Statement, if is None , which is generated by the constructor SQL Statements. \n",
        "                commit_at_once  Whether to commit the transaction immediately, if not immediately, \n",
        "                 For non-query operations, the call is required commit Explicitly submit. \n",
        "        \"\"\"\n",
        "        if not sql:\n",
        "            sql = self.sql\n",
        "        self.cursor.execute(sql)\n",
        "        if commit_at_once:\n",
        "            self.commit()\n",
        "\n",
        "    def fetchone(self, sql = None):\n",
        "        \"\"\"\n",
        "             Take a record \n",
        "        \"\"\"\n",
        "        self.execute(sql, False)\n",
        "        return self.cursor.fetchone()\n",
        "\n",
        "    def get_query1_result(self, sql = None):\n",
        "        \"\"\"\n",
        "             Take all records \n",
        "        \"\"\"\n",
        "        self.execute(sql, False)\n",
        "        return json.dumps(self.cursor.fetchall())\n",
        "\n",
        "\n",
        "    def get_status(self):\n",
        "     try:\n",
        "        self.connection.cursor()\n",
        "        return True\n",
        "     except Exception as ex:\n",
        "        return False"
      ],
      "metadata": {
        "id": "xij4Meq4gXTM"
      },
      "execution_count": null,
      "outputs": []
    },
    {
      "cell_type": "code",
      "source": [
        "dff = df.toPandas()\n",
        "dff2 = df2.toPandas()\n",
        "dff3 = df3.toPandas()"
      ],
      "metadata": {
        "id": "p6ZPqWKvhtOw"
      },
      "execution_count": null,
      "outputs": []
    },
    {
      "cell_type": "code",
      "source": [
        "db = Database('db.db')\n",
        "db.open()\n",
        "db.add(dff,'ipl_balls')\n",
        "db.add(dff2,'ipl_matches')\n",
        "db.add(dff3,'ipl_venues')"
      ],
      "metadata": {
        "colab": {
          "base_uri": "https://localhost:8080/"
        },
        "id": "PxyHaT3KggSN",
        "outputId": "8dc09a9a-ea4e-4b78-d183-41def7600499"
      },
      "execution_count": null,
      "outputs": [
        {
          "output_type": "stream",
          "name": "stderr",
          "text": [
            "Exception ignored in: <function Database.__del__ at 0x7fa894296cb0>\n",
            "Traceback (most recent call last):\n",
            "  File \"<ipython-input-196-18f117c343db>\", line 41, in __del__\n",
            "  File \"<ipython-input-196-18f117c343db>\", line 35, in close\n",
            "sqlite3.ProgrammingError: SQLite objects created in a thread can only be used in that same thread. The object was created in thread id 140362826880896 and this is thread id 140362399078144.\n"
          ]
        }
      ]
    },
    {
      "cell_type": "code",
      "source": [
        "qry1_result = db.get_query1_result(sql = \"\"\"\n",
        "select fielder,count(*) from ipl_balls\n",
        "where dismissal_kind == 'caught'\n",
        "group by fielder\n",
        "order by count(*) desc\n",
        "\"\"\")\n",
        "qry1_result"
      ],
      "metadata": {
        "colab": {
          "base_uri": "https://localhost:8080/",
          "height": 140
        },
        "id": "az-UDLK9iTcK",
        "outputId": "d9005e7e-b763-4da2-9846-8c430ce825be"
      },
      "execution_count": null,
      "outputs": [
        {
          "output_type": "execute_result",
          "data": {
            "application/vnd.google.colaboratory.intrinsic+json": {
              "type": "string"
            },
            "text/plain": [
              "'[[\"MS Dhoni\", 24], [\"RG Sharma\", 22], [\"RV Uthappa\", 20], [\"AT Rayudu\", 16], [\"KA Pollard\", 15], [\"DJ Bravo\", 14], [\"KD Karthik\", 13], [\"WP Saha\", 13], [\"AB de Villiers\", 12], [\"S Dhawan\", 12], [\"PA Patel\", 11], [\"RA Jadeja\", 11], [\"DA Warner\", 10], [\"SA Yadav\", 10], [\"SK Raina\", 10], [\"SV Samson\", 10], [\"HH Pandya\", 9], [\"J Botha\", 9], [\"JH Kallis\", 9], [\"MK Tiwary\", 9], [\"NV Ojha\", 9], [\"YV Takawale\", 9], [\"AC Gilchrist\", 8], [\"CL White\", 8], [\"F du Plessis\", 8], [\"KM Jadhav\", 8], [\"M Vijay\", 8], [\"SPD Smith\", 8], [\"AM Rahane\", 7], [\"DR Smith\", 7], [\"Q de Kock\", 7], [\"R Vinay Kumar\", 7], [\"SS Tiwary\", 7], [\"YK Pathan\", 7], [\"AD Russell\", 6], [\"AR Patel\", 6], [\"M Kartik\", 6], [\"MA Agarwal\", 6], [\"V Kohli\", 6], [\"AJ Finch\", 5], [\"BA Stokes\", 5], [\"DPMD Jayawardene\", 5], [\"DT Christian\", 5], [\"G Gambhir\", 5], [\"KC Sangakkara\", 5], [\"KL Rahul\", 5], [\"M Rawat\", 5], [\"MK Pandey\", 5], [\"RP Singh\", 5], [\"RR Pant\", 5], [\"S Nadeem\", 5], [\"SC Ganguly\", 5], [\"SR Tendulkar\", 5], [\"UT Yadav\", 5], [\"A Nehra\", 4], [\"AD Mathews\", 4], [\"D Padikkal\", 4], [\"DW Steyn\", 4], [\"GJ Maxwell\", 4], [\"Gurkeerat Singh\", 4], [\"Harbhajan Singh\", 4], [\"JP Duminy\", 4], [\"KB Arun Karthik\", 4], [\"KV Sharma\", 4], [\"LR Shukla\", 4], [\"M Kaif\", 4], [\"MEK Hussey\", 4], [\"MG Johnson\", 4], [\"MJ Guptill\", 4], [\"MS Bisla\", 4], [\"P Kumar\", 4], [\"PP Chawla\", 4], [\"R Ashwin\", 4], [\"R Dravid\", 4], [\"S Badrinath\", 4], [\"SL Malinga\", 4], [\"STR Binny\", 4], [\"TA Boult\", 4], [\"UBT Chand\", 4], [\"Z Khan\", 4], [\"B Kumar\", 3], [\"BB McCullum\", 3], [\"CH Morris\", 3], [\"CJ Anderson\", 3], [\"CK Kapugedera\", 3], [\"DA Miller\", 3], [\"DH Yagnik\", 3], [\"DJ Hooda\", 3], [\"DJ Hussey\", 3], [\"DP Nannes\", 3], [\"EJG Morgan\", 3], [\"GH Vihari\", 3], [\"HH Gibbs\", 3], [\"JA Morkel\", 3], [\"JD Unadkat\", 3], [\"LRPL Taylor\", 3], [\"M Ashwin\", 3], [\"MC Henriques\", 3], [\"MR Marsh\", 3], [\"N Rana\", 3], [\"NM Coulter-Nile\", 3], [\"R Dhawan\", 3], [\"R Tewatia\", 3], [\"SA Asnodkar\", 3], [\"SE Marsh\", 3], [\"SK Trivedi\", 3], [\"SK Warne\", 3], [\"SM Curran\", 3], [\"SS Iyer\", 3], [\"Shubman Gill\", 3], [\"TM Dilshan\", 3], [\"V Shankar\", 3], [\"A Ashish Reddy\", 2], [\"A Nortje\", 2], [\"A Symonds\", 2], [\"AB Dinda\", 2], [\"AB de Villiers (sub)\", 2], [\"AM Nayar\", 2], [\"AS Raut\", 2], [\"Abdul Samad\", 2], [\"Ankit Sharma\", 2], [\"B Lee\", 2], [\"BJ Hodge\", 2], [\"CA Lynn\", 2], [\"CRD Fernando\", 2], [\"I Sharma\", 2], [\"IK Pathan\", 2], [\"Imran Tahir\", 2], [\"J Suchith (sub)\", 2], [\"JM Bairstow\", 2], [\"JP Faulkner\", 2], [\"K Goel\", 2], [\"KH Pandya\", 2], [\"KP Pietersen\", 2], [\"KS Williamson\", 2], [\"LMP Simmons\", 2], [\"LPC Silva\", 2], [\"M Manhas\", 2], [\"M Muralitharan\", 2], [\"M Vohra\", 2], [\"MA Starc\", 2], [\"MF Maharoof\", 2], [\"MP Stoinis\", 2], [\"Mandeep Singh\", 2], [\"Mohammed Shami\", 2], [\"N Pooran\", 2], [\"P Negi\", 2], [\"PJ Cummins\", 2], [\"PK Garg\", 2], [\"PP Ojha\", 2], [\"PR Shah\", 2], [\"R Bhatia\", 2], [\"R Sharma\", 2], [\"R Shukla\", 2], [\"RK Singh\", 2], [\"RR Rossouw\", 2], [\"RT Ponting\", 2], [\"Rashid Khan\", 2], [\"Ravi Bishnoi\", 2], [\"S Dube\", 2], [\"SB Jakati\", 2], [\"SN Thakur\", 2], [\"SO Hetmyer\", 2], [\"SP Fleming\", 2], [\"SP Narine\", 2], [\"SR Watson\", 2], [\"Salman Butt\", 2], [\"Shahid Afridi\", 2], [\"Shoaib Malik (sub)\", 2], [\"TL Suman\", 2], [\"V Sehwag\", 2], [\"YS Chahal\", 2], [\"Yuvraj Singh\", 2], [\"A Chopra\", 1], [\"A Kumble\", 1], [\"A Mishra\", 1], [\"AG Paunikar\", 1], [\"AJ Tye\", 1], [\"AL Menaria\", 1], [\"AM Rahane (sub)\", 1], [\"AP Tare\", 1], [\"AR Patel (sub)\", 1], [\"AS Rajpoot\", 1], [\"AS Roy (sub)\", 1], [\"AT Carey\", 1], [\"Anand Rajan\", 1], [\"B Akhil\", 1], [\"B Aparajith (sub)\", 1], [\"B Chipli\", 1], [\"B Laughlin\", 1], [\"BMAJ Mendis\", 1], [\"Basil Thampi\", 1], [\"CA Pujara\", 1], [\"CH Gayle\", 1], [\"CJ Green (sub)\", 1], [\"CR Woakes\", 1], [\"CV Varun\", 1], [\"D Salunkhe\", 1], [\"D Wiese\", 1], [\"DA Miller (sub)\", 1], [\"DB Ravi Teja\", 1], [\"DE Bollinger\", 1], [\"DJ Jacobs\", 1], [\"DL Vettori\", 1], [\"DS Kulkarni\", 1], [\"DT Christian (sub)\", 1], [\"E Lewis\", 1], [\"GC Smith\", 1], [\"GD McGrath\", 1], [\"GJ Bailey\", 1], [\"HH Pandya (sub)\", 1], [\"HV Patel\", 1], [\"I Udana\", 1], [\"IR Jaggi\", 1], [\"J Suchith\", 1], [\"J Yadav (sub)\", 1], [\"JC Archer\", 1], [\"JC Buttler\", 1], [\"JD Ryder\", 1], [\"JEC Franklin\", 1], [\"JJ Bumrah\", 1], [\"JR Hopes\", 1], [\"Kuldeep Yadav\", 1], [\"LA Pomersbach\", 1], [\"M Prasidh Krishna\", 1], [\"MA Wood\", 1], [\"ML Hayden\", 1], [\"MM Ali\", 1], [\"MM Patel\", 1], [\"MM Sharma\", 1], [\"MN Samuels\", 1], [\"MS Gony\", 1], [\"MV Boucher\", 1], [\"Misbah-ul-Haq\", 1], [\"Mohammed Siraj\", 1], [\"Mustafizur Rahman\", 1], [\"NA Saini\", 1], [\"NS Naik\", 1], [\"Niraj Patel\", 1], [\"P Amarnath\", 1], [\"P Simran Singh\", 1], [\"PA Reddy\", 1], [\"PC Valthaty\", 1], [\"PK Garg (sub)\", 1], [\"PP Shaw\", 1], [\"R McLaren\", 1], [\"RD Gaikwad\", 1], [\"RN ten Doeschate\", 1], [\"RR Powar\", 1], [\"RR Raje\", 1], [\"S Anirudha\", 1], [\"S Gopal\", 1], [\"S Ladda\", 1], [\"S Randiv\", 1], [\"S Tyagi\", 1], [\"S Vidyut\", 1], [\"SB Styris\", 1], [\"SM Pollock\", 1], [\"SN Khan\", 1], [\"SP Goswami\", 1], [\"SP Goswami (sub)\", 1], [\"SW Tait\", 1], [\"Shahbaz Ahmed\", 1], [\"Shakib Al Hasan\", 1], [\"Shivam Mavi\", 1], [\"Shivam Mavi (sub)\", 1], [\"Shoaib Malik\", 1], [\"T Kohli (sub)\", 1], [\"T Taibu\", 1], [\"TG Southee\", 1], [\"TM Srivastava\", 1], [\"VR Aaron\", 1], [\"VRV Singh\", 1], [\"VY Mahesh\", 1], [\"WA Mota\", 1], [\"WD Parnell\", 1], [\"Younis Khan\", 1]]'"
            ]
          },
          "metadata": {},
          "execution_count": 204
        }
      ]
    },
    {
      "cell_type": "code",
      "source": [
        "db.get_status()"
      ],
      "metadata": {
        "id": "AH1XpdUwnhop",
        "colab": {
          "base_uri": "https://localhost:8080/"
        },
        "outputId": "8a5bfb08-df1a-446d-8c74-250c10b2acb9"
      },
      "execution_count": null,
      "outputs": [
        {
          "output_type": "execute_result",
          "data": {
            "text/plain": [
              "True"
            ]
          },
          "metadata": {},
          "execution_count": 205
        }
      ]
    }
  ]
}